{
 "cells": [
  {
   "cell_type": "code",
   "execution_count": 1,
   "metadata": {},
   "outputs": [],
   "source": [
    "import numpy as np"
   ]
  },
  {
   "cell_type": "code",
   "execution_count": 32,
   "metadata": {},
   "outputs": [
    {
     "data": {
      "text/plain": [
       "1"
      ]
     },
     "execution_count": 32,
     "metadata": {},
     "output_type": "execute_result"
    }
   ],
   "source": [
    "a_array=np.arange(10)\n",
    "b_array=np.random.choice(a_array,1)[0]\n",
    "b_array"
   ]
  },
  {
   "cell_type": "code",
   "execution_count": 116,
   "metadata": {},
   "outputs": [
    {
     "data": {
      "text/plain": [
       "0"
      ]
     },
     "execution_count": 116,
     "metadata": {},
     "output_type": "execute_result"
    }
   ],
   "source": [
    "np.random.randint(0,5)\n",
    "np.array([[4,3]])[0,1]\n",
    "np.array([0,np.random.randint(0,5)])[0]"
   ]
  },
  {
   "cell_type": "code",
   "execution_count": 220,
   "metadata": {},
   "outputs": [
    {
     "name": "stdout",
     "output_type": "stream",
     "text": [
      "[(3, 3), (3, 4)]\n"
     ]
    },
    {
     "data": {
      "text/plain": [
       "array([[3, 3],\n",
       "       [3, 4],\n",
       "       [4, 3]])"
      ]
     },
     "execution_count": 220,
     "metadata": {},
     "output_type": "execute_result"
    }
   ],
   "source": [
    "bomb_positions = [(3,3),(3,4)]\n",
    "print(bomb_positions)\n",
    "gold_positions = [(4,3)]\n",
    "terminal_states = np.array(bomb_positions+gold_positions)\n",
    "terminal_states"
   ]
  },
  {
   "cell_type": "code",
   "execution_count": 237,
   "metadata": {},
   "outputs": [
    {
     "data": {
      "text/plain": [
       "2"
      ]
     },
     "execution_count": 237,
     "metadata": {},
     "output_type": "execute_result"
    }
   ],
   "source": [
    "len(bomb_positions)"
   ]
  },
  {
   "cell_type": "code",
   "execution_count": 242,
   "metadata": {},
   "outputs": [
    {
     "name": "stdout",
     "output_type": "stream",
     "text": [
      "[[  0.   0.   0.   0.   0.]\n",
      " [  0.   0.   0.   0.   0.]\n",
      " [  0.   0.   0.   0.   0.]\n",
      " [  0.   0.   0. -10. -10.]\n",
      " [  0.   0.   0.  10.   0.]]\n"
     ]
    }
   ],
   "source": [
    "grid=np.zeros([5,5])\n",
    "for i in bomb_positions:\n",
    "    grid[i] = -10\n",
    "for j in gold_positions:\n",
    "    grid[j] = 10\n",
    "print(grid)"
   ]
  },
  {
   "cell_type": "code",
   "execution_count": 283,
   "metadata": {},
   "outputs": [
    {
     "data": {
      "text/plain": [
       "0.0"
      ]
     },
     "execution_count": 283,
     "metadata": {},
     "output_type": "execute_result"
    }
   ],
   "source": [
    "grid[(2,3)]"
   ]
  },
  {
   "cell_type": "code",
   "execution_count": 285,
   "metadata": {},
   "outputs": [
    {
     "data": {
      "text/plain": [
       "array([0, 3])"
      ]
     },
     "execution_count": 285,
     "metadata": {},
     "output_type": "execute_result"
    }
   ],
   "source": [
    "posicion=np.array([0,3])\n",
    "posicion"
   ]
  },
  {
   "cell_type": "code",
   "execution_count": 290,
   "metadata": {},
   "outputs": [
    {
     "data": {
      "text/plain": [
       "0.0"
      ]
     },
     "execution_count": 290,
     "metadata": {},
     "output_type": "execute_result"
    }
   ],
   "source": [
    "grid[tuple(posicion)]"
   ]
  },
  {
   "cell_type": "code",
   "execution_count": null,
   "metadata": {},
   "outputs": [],
   "source": [
    "terminal_states=np.array"
   ]
  },
  {
   "cell_type": "code",
   "execution_count": 5,
   "metadata": {},
   "outputs": [
    {
     "name": "stdout",
     "output_type": "stream",
     "text": [
      "uno 0\n",
      "dos 1\n",
      "tres 2\n"
     ]
    }
   ],
   "source": [
    "a=(\"uno\",\"dos\",\"tres\")\n",
    "b=zip(a,range(3))\n",
    "for i,j in b:\n",
    "    print(i,j)"
   ]
  },
  {
   "cell_type": "code",
   "execution_count": 3,
   "metadata": {},
   "outputs": [
    {
     "data": {
      "text/plain": [
       "4"
      ]
     },
     "execution_count": 3,
     "metadata": {},
     "output_type": "execute_result"
    }
   ],
   "source": [
    "9%5"
   ]
  },
  {
   "cell_type": "code",
   "execution_count": 33,
   "metadata": {},
   "outputs": [
    {
     "data": {
      "text/plain": [
       "5"
      ]
     },
     "execution_count": 33,
     "metadata": {},
     "output_type": "execute_result"
    }
   ],
   "source": [
    "a=22\n",
    "a//=2\n",
    "a//=2\n",
    "a"
   ]
  },
  {
   "cell_type": "code",
   "execution_count": 38,
   "metadata": {},
   "outputs": [],
   "source": [
    "import numpy as np\n",
    "a=np.array([0,0,0])"
   ]
  },
  {
   "cell_type": "code",
   "execution_count": 39,
   "metadata": {},
   "outputs": [],
   "source": [
    "posiciones=[1,2] "
   ]
  },
  {
   "cell_type": "code",
   "execution_count": 41,
   "metadata": {},
   "outputs": [
    {
     "data": {
      "text/plain": [
       "array([0, 1, 1])"
      ]
     },
     "execution_count": 41,
     "metadata": {},
     "output_type": "execute_result"
    }
   ],
   "source": [
    "a[posiciones]=1\n",
    "a\n"
   ]
  },
  {
   "cell_type": "code",
   "execution_count": 18,
   "metadata": {},
   "outputs": [
    {
     "data": {
      "text/plain": [
       "array([[2, 2, 2],\n",
       "       [2, 2, 2],\n",
       "       [2, 2, 2]])"
      ]
     },
     "execution_count": 18,
     "metadata": {},
     "output_type": "execute_result"
    }
   ],
   "source": [
    "a=np.array([[[1,1,1],[1,1,1],[1,1,1]],[[2,2,2],[2,2,2],[2,2,2]]])\n",
    "a[1]"
   ]
  },
  {
   "cell_type": "code",
   "execution_count": 19,
   "metadata": {},
   "outputs": [
    {
     "data": {
      "text/plain": [
       "(2, 3, 3)"
      ]
     },
     "execution_count": 19,
     "metadata": {},
     "output_type": "execute_result"
    }
   ],
   "source": [
    "a.shape"
   ]
  },
  {
   "cell_type": "code",
   "execution_count": 28,
   "metadata": {},
   "outputs": [
    {
     "name": "stdout",
     "output_type": "stream",
     "text": [
      "[ 0.  1.  2.  3.  4.  5.  6.  7.  8.  9. 10. 11. 12. 13. 14. 15. 16. 17.\n",
      " 18. 19. 20. 21. 22. 23. 24.]\n",
      "[ 0.  1.  2.  3.  4.  5.  6.  7.  8.  9. 10. 11. 12. 13. 14. 15. 16. 17.\n",
      " 18. 19. 20. 21. 22. 23. 24.]\n",
      "[ 0.  1.  2.  3.  4.  5.  6.  7.  8.  9. 10. 11. 12. 13. 14. 15. 16. 17.\n",
      " 18. 19. 20. 21. 22. 23. 24.]\n"
     ]
    },
    {
     "data": {
      "text/plain": [
       "0"
      ]
     },
     "execution_count": 28,
     "metadata": {},
     "output_type": "execute_result"
    }
   ],
   "source": [
    "estados = np.arange(25)*np.ones((3,25))\n",
    "for estado in estados:\n",
    "    print(estado)\n",
    "18%18"
   ]
  },
  {
   "cell_type": "code",
   "execution_count": 37,
   "metadata": {},
   "outputs": [
    {
     "data": {
      "text/plain": [
       "12"
      ]
     },
     "execution_count": 37,
     "metadata": {},
     "output_type": "execute_result"
    }
   ],
   "source": [
    "12+25\n",
    "37%25"
   ]
  },
  {
   "cell_type": "code",
   "execution_count": 43,
   "metadata": {},
   "outputs": [
    {
     "data": {
      "text/plain": [
       "1"
      ]
     },
     "execution_count": 43,
     "metadata": {},
     "output_type": "execute_result"
    }
   ],
   "source": [
    "26%25"
   ]
  },
  {
   "cell_type": "code",
   "execution_count": 1,
   "metadata": {},
   "outputs": [
    {
     "data": {
      "text/plain": [
       "0"
      ]
     },
     "execution_count": 1,
     "metadata": {},
     "output_type": "execute_result"
    }
   ],
   "source": [
    "1//25"
   ]
  },
  {
   "cell_type": "code",
   "execution_count": 45,
   "metadata": {},
   "outputs": [
    {
     "data": {
      "text/plain": [
       "2"
      ]
     },
     "execution_count": 45,
     "metadata": {},
     "output_type": "execute_result"
    }
   ],
   "source": [
    "50//25"
   ]
  },
  {
   "cell_type": "code",
   "execution_count": 46,
   "metadata": {},
   "outputs": [
    {
     "data": {
      "text/plain": [
       "0"
      ]
     },
     "execution_count": 46,
     "metadata": {},
     "output_type": "execute_result"
    }
   ],
   "source": [
    "50%25"
   ]
  },
  {
   "cell_type": "code",
   "execution_count": 47,
   "metadata": {},
   "outputs": [
    {
     "data": {
      "text/plain": [
       "12"
      ]
     },
     "execution_count": 47,
     "metadata": {},
     "output_type": "execute_result"
    }
   ],
   "source": [
    "(12+50)%25"
   ]
  },
  {
   "cell_type": "code",
   "execution_count": 48,
   "metadata": {},
   "outputs": [
    {
     "data": {
      "text/plain": [
       "4"
      ]
     },
     "execution_count": 48,
     "metadata": {},
     "output_type": "execute_result"
    }
   ],
   "source": [
    "4%5"
   ]
  },
  {
   "cell_type": "code",
   "execution_count": null,
   "metadata": {},
   "outputs": [],
   "source": [
    "def init_epsilon_policy(n_actions):\n",
    "    policy={\n",
    "        (a, b, c, d): {k: 1/n_actions for k in range(9)}\n",
    "        for a in range(1, 18)\n",
    "        for b in range(1, 14)\n",
    "        for c in range(-10, 11)\n",
    "        for d in range(-10, 11)\n",
    "    }\n",
    "    return policy\n",
    "d=init_epsilon_policy(9)"
   ]
  },
  {
   "cell_type": "code",
   "execution_count": null,
   "metadata": {},
   "outputs": [
    {
     "data": {
      "text/plain": [
       "7"
      ]
     },
     "execution_count": 36,
     "metadata": {},
     "output_type": "execute_result"
    }
   ],
   "source": [
    "\n",
    "import numpy as np\n",
    "a=np.array(list(d[(1,1,0,0)].values()))\n",
    "b=np.arange(9)\n",
    "np.random.choice(b, p=a)"
   ]
  },
  {
   "cell_type": "code",
   "execution_count": 46,
   "metadata": {},
   "outputs": [
    {
     "name": "stdout",
     "output_type": "stream",
     "text": [
      "0\n",
      "1\n",
      "2\n",
      "3\n",
      "4\n",
      "5\n",
      "6\n",
      "7\n",
      "8\n"
     ]
    }
   ],
   "source": [
    "for action in d[(1,1,1,2)].keys():\n",
    "    print(action)"
   ]
  },
  {
   "cell_type": "code",
   "execution_count": null,
   "metadata": {},
   "outputs": [
    {
     "data": {
      "text/plain": [
       "array([-6.        , -5.8989899 , -5.7979798 , -5.6969697 , -5.5959596 ,\n",
       "       -5.49494949, -5.39393939, -5.29292929, -5.19191919, -5.09090909,\n",
       "       -4.98989899, -4.88888889, -4.78787879, -4.68686869, -4.58585859,\n",
       "       -4.48484848, -4.38383838, -4.28282828, -4.18181818, -4.08080808,\n",
       "       -3.97979798, -3.87878788, -3.77777778, -3.67676768, -3.57575758,\n",
       "       -3.47474747, -3.37373737, -3.27272727, -3.17171717, -3.07070707,\n",
       "       -2.96969697, -2.86868687, -2.76767677, -2.66666667, -2.56565657,\n",
       "       -2.46464646, -2.36363636, -2.26262626, -2.16161616, -2.06060606,\n",
       "       -1.95959596, -1.85858586, -1.75757576, -1.65656566, -1.55555556,\n",
       "       -1.45454545, -1.35353535, -1.25252525, -1.15151515, -1.05050505,\n",
       "       -0.94949495, -0.84848485, -0.74747475, -0.64646465, -0.54545455,\n",
       "       -0.44444444, -0.34343434, -0.24242424, -0.14141414, -0.04040404,\n",
       "        0.06060606,  0.16161616,  0.26262626,  0.36363636,  0.46464646,\n",
       "        0.56565657,  0.66666667,  0.76767677,  0.86868687,  0.96969697,\n",
       "        1.07070707,  1.17171717,  1.27272727,  1.37373737,  1.47474747,\n",
       "        1.57575758,  1.67676768,  1.77777778,  1.87878788,  1.97979798,\n",
       "        2.08080808,  2.18181818,  2.28282828,  2.38383838,  2.48484848,\n",
       "        2.58585859,  2.68686869,  2.78787879,  2.88888889,  2.98989899,\n",
       "        3.09090909,  3.19191919,  3.29292929,  3.39393939,  3.49494949,\n",
       "        3.5959596 ,  3.6969697 ,  3.7979798 ,  3.8989899 ,  4.        ])"
      ]
     },
     "execution_count": 2,
     "metadata": {},
     "output_type": "execute_result"
    }
   ],
   "source": [
    "import numpy as np\n",
    "a= np.linspace(-6,4,100)"
   ]
  },
  {
   "cell_type": "code",
   "execution_count": null,
   "metadata": {},
   "outputs": [
    {
     "ename": "TypeError",
     "evalue": "'>' not supported between instances of 'dict_keys' and 'dict'",
     "output_type": "error",
     "traceback": [
      "\u001b[1;31m---------------------------------------------------------------------------\u001b[0m",
      "\u001b[1;31mTypeError\u001b[0m                                 Traceback (most recent call last)",
      "Cell \u001b[1;32mIn[12], line 13\u001b[0m\n\u001b[0;32m     11\u001b[0m q\u001b[38;5;241m=\u001b[39m create_q_table()\n\u001b[0;32m     12\u001b[0m keys\u001b[38;5;241m=\u001b[39m q\u001b[38;5;241m.\u001b[39mkeys()\n\u001b[1;32m---> 13\u001b[0m \u001b[38;5;28;43mmax\u001b[39;49m\u001b[43m(\u001b[49m\u001b[43mq\u001b[49m\u001b[43m[\u001b[49m\u001b[43m(\u001b[49m\u001b[38;5;241;43m1\u001b[39;49m\u001b[43m,\u001b[49m\u001b[38;5;241;43m1\u001b[39;49m\u001b[43m,\u001b[49m\u001b[38;5;241;43m1\u001b[39;49m\u001b[43m,\u001b[49m\u001b[38;5;241;43m1\u001b[39;49m\u001b[43m)\u001b[49m\u001b[43m]\u001b[49m\u001b[43m,\u001b[49m\u001b[43m \u001b[49m\u001b[43mkeys\u001b[49m\u001b[43m)\u001b[49m\n",
      "\u001b[1;31mTypeError\u001b[0m: '>' not supported between instances of 'dict_keys' and 'dict'"
     ]
    }
   ],
   "source": [
    "import numpy as np\n",
    "def create_q_table():\n",
    "    q = {\n",
    "        (a, b, c, d): {k: 0 for k in range(9)}\n",
    "        for a in range(1, 40)\n",
    "        for b in range(1, 40)\n",
    "        for c in range(-10, 11)\n",
    "        for d in range(-10, 11)\n",
    "    }\n",
    "    return q\n",
    "q= create_q_table()\n",
    "keys= q.keys()\n",
    "max(q[(1,1,1,1)], keys)"
   ]
  },
  {
   "cell_type": "code",
   "execution_count": null,
   "metadata": {},
   "outputs": [],
   "source": [
    "# from tensorflow.keras.applications import EfficientNetB0\n",
    "# from tensorflow.keras.applications import VGG16\n",
    "from tensorflow.keras.applications import ResNet50\n",
    "\n",
    "PT_conv_base = ResNet50(\n",
    "    include_top=False,\n",
    "    weights=\"imagenet\",\n",
    "    input_shape=(128,128,3))\n",
    "for layer in PT_conv_base.layers: #Freeze all layers except conv5 (last ones)\n",
    "    if \"conv5\" in layer.name:\n",
    "      layer.trainable = True\n",
    "    else:\n",
    "      layer.trainable = False\n",
    "# PT_conv_base.summary()\n",
    "pt = PT_conv_base.output\n",
    "\n",
    "modb_mlp0_age = Dense(512,activation = \"relu\") (pt)\n",
    "modb_mlp1_age = Dense(1,activation = \"softmax\") (modb_mlp0_age)\n",
    "\n",
    "modb_mlp0_gender = Dense(512,activation = \"relu\") (pt)\n",
    "modb_mlp1_gender = Dense(1,activation = \"softmax\") (modb_mlp0_gender)\n",
    "\n",
    "modelB=keras.Model(inputs=PT_conv_base.input, outputs=[modb_mlp1_age,modb_mlp1_gender])"
   ]
  },
  {
   "cell_type": "code",
   "execution_count": 2,
   "metadata": {},
   "outputs": [],
   "source": [
    "def prueba():\n",
    "    return 1,2,3,4\n",
    "a,b,_,_=prueba()"
   ]
  }
 ],
 "metadata": {
  "kernelspec": {
   "display_name": "Python 3",
   "language": "python",
   "name": "python3"
  },
  "language_info": {
   "codemirror_mode": {
    "name": "ipython",
    "version": 3
   },
   "file_extension": ".py",
   "mimetype": "text/x-python",
   "name": "python",
   "nbconvert_exporter": "python",
   "pygments_lexer": "ipython3",
   "version": "3.11.0"
  }
 },
 "nbformat": 4,
 "nbformat_minor": 2
}
