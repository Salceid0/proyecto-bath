{
 "cells": [
  {
   "cell_type": "markdown",
   "metadata": {
    "deletable": false,
    "editable": false,
    "nbgrader": {
     "cell_type": "markdown",
     "checksum": "9a1c8fb41527c5d768d3632cdc24e8df",
     "grade": false,
     "grade_id": "cell-b0b3b6b4f891b031",
     "locked": true,
     "schema_version": 3,
     "solution": false,
     "task": false
    }
   },
   "source": [
    "# CM30359 Reinforcement Learning\n",
    "\n",
    "## Monte Carlo Methods\n",
    "In this lab session, we will be guiding you through implementing one of the Monte Carlo control algorithms discussed in this week's lectures and applying it to solve a simple sequential decision problem.\n",
    "\n",
    "Specifically, you will implement the On-Policy First-Visit Monte-Carlo Control algorithm and use it to train an agent to drive a car around a simple simulated racetrack."
   ]
  },
  {
   "cell_type": "markdown",
   "metadata": {
    "deletable": false,
    "editable": false,
    "nbgrader": {
     "cell_type": "markdown",
     "checksum": "47878012611fb5c419e107ca45b63a02",
     "grade": false,
     "grade_id": "cell-e86e35a4b405ff32",
     "locked": true,
     "schema_version": 3,
     "solution": false,
     "task": false
    }
   },
   "source": [
    "## The Racetrack Environment\n",
    "We have implemented a custom environment called \"Racetrack\" for you to use during this lab. It is inspired by the environment described in the course textbook (Reinforcement Learning, Sutton & Barto, 2018, Exercise 5.12), but is not exactly the same.\n",
    "\n",
    "### Environment Description\n",
    "Consider driving a race car around a turn on a racetrack. In order to complete the race as quickly as possible, you would want to drive as fast as you can but, to avoid running off the track, you must slow down while turning.\n",
    "\n",
    "In our simplified racetrack environment, the agent is at one of a discrete set of grid positions. The agent also has a discrete speed in two directions, $x$ and $y$. So the state is represented as follows:\n",
    "$$(\\text{position}_y, \\text{position}_x, \\text{velocity}_y, \\text{velocity}_x)$$\n",
    "\n",
    "The agent collects a reward of -1 at each time step, an additional -10 for leaving the track (i.e., ending up on a black grid square in the figure below), and an additional +10 for reaching the finish line (any of the red grid squares). The agent starts each episode on a randomly selected grid-square on the starting line (green grid squares) with a speed of zero in both directions. At each time step, the agent can change its speed in both directions. Each speed can be changed by +1, -1 or 0, giving a total of nine actions. For example, the agent may increase its speed in the $x$ direction by -1 and its speed in the $y$ direction by +1. The agent's speed cannot be greater than +10 or less than -10 in either direction.\n",
    "\n",
    "<img src=\"images/track_big.png\" style=\"width: 600px;\"/>\n",
    "\n",
    "\n",
    "The agent's next state is determined by its current grid square, its current speed in two directions, and the changes it  makes to its speed in the two directions. This environment is stochastic. When the agent tries to change its speed, no change occurs (in either direction) with probability 0.2. In other words, 20% of the time, the agent's action is ignored and the car's speed remains the same in both directions.\n",
    "\n",
    "If the agent leaves the track, it is returned to a random start grid-square and has its speed set to zero in both directions; the episode continues. An episode ends only when the agent transitions to a goal grid-square.\n",
    "\n",
    "\n",
    "\n",
    "### Environment Implementation\n",
    "We have implemented the above environment in the `racetrack_env.py` file, for you to use in this coursework. Please use this implementation instead of writing your own, and please do not modify the environment.\n",
    "\n",
    "We provide a `RacetrackEnv` class for your agents to interact with. The class has the following methods:\n",
    "- **`reset()`** - this method initialises the environment, chooses a random starting state, and returns it. This method should be called before the start of every episode.\n",
    "- **`step(action)`** - this method takes an integer action (more on this later), and executes one time-step in the environment. It returns a tuple containing the next state, the reward collected, and whether the next state is a terminal state.\n",
    "- **`render(sleep_time)`** - this method renders a matplotlib graph representing the environment. It takes an optional float parameter giving the number of seconds to display each time-step. This method is useful for testing and debugging, but should not be used during training since it is *very* slow. **Do not use this method in your final submission**.\n",
    "- **`get_actions()`** - a simple method that returns the available actions in the current state. Always returns a list containing integers in the range [0-8] (more on this later).\n",
    "\n",
    "In our code, states are represented as Python tuples - specifically a tuple of four integers. For example, if the agent is in a grid square with coordinates ($Y = 2$, $X = 3$), and is moving zero cells vertically and one cell horizontally per time-step, the state is represented as `(2, 3, 0, 1)`. Tuples of this kind will be returned by the `reset()` and `step(action)` methods. It is worth noting that tuples can be used to index certain Python data-structures, such as dictionaries.\n",
    "\n",
    "There are nine actions available to the agent in each state, as described above. However, to simplify your code, we have represented each of the nine actions as an integer in the range [0-8]. The table below shows the index of each action, along with the corresponding changes it will cause to the agent's speed in each direction.\n",
    "\n",
    "<img src=\"images/action_grid.png\" style=\"width: 250px;\"/>\n",
    "\n",
    "For example, taking action 8 will increase the agent's speed in the $x$ direction, but decrease its speed in the $y$ direction."
   ]
  },
  {
   "cell_type": "markdown",
   "metadata": {
    "deletable": false,
    "editable": false,
    "nbgrader": {
     "cell_type": "markdown",
     "checksum": "e4714ee739adca912176564b3eb00229",
     "grade": false,
     "grade_id": "cell-30ac99abe97e62b8",
     "locked": true,
     "schema_version": 3,
     "solution": false,
     "task": false
    }
   },
   "source": [
    "### Racetrack Code Example\n",
    "Below, we go through a quick example of using the `RaceTrackEnv` class.\n",
    "\n",
    "First, we import the class, then create a `RaceTrackEnv` object called `env`. We then initialise the environment using the `reset()` method, and take a look at the initial state variable and the result of `plot()`.\n"
   ]
  },
  {
   "cell_type": "code",
   "execution_count": 1,
   "metadata": {
    "deletable": false,
    "editable": false,
    "nbgrader": {
     "cell_type": "code",
     "checksum": "0ac22a56ca4687400306302c35b75a91",
     "grade": false,
     "grade_id": "cell-77add459a6f282dd",
     "locked": true,
     "schema_version": 3,
     "solution": false,
     "task": false
    }
   },
   "outputs": [
    {
     "data": {
      "image/png": "[encoded data removed]",
      "text/plain": [
       "<Figure size 640x480 with 1 Axes>"
      ]
     },
     "metadata": {},
     "output_type": "display_data"
    },
    {
     "name": "stdout",
     "output_type": "stream",
     "text": [
      "Initial State: (1, 3, 0, 0)\n"
     ]
    }
   ],
   "source": [
    "%matplotlib inline\n",
    "\n",
    "# Set random seed to make example reproducable.\n",
    "import numpy as np\n",
    "import random\n",
    "seed = 5\n",
    "random.seed(seed)\n",
    "np.random.seed(seed)\n",
    "\n",
    "from racetrack_env import RacetrackEnv\n",
    "\n",
    "# Instantiate environment object.\n",
    "env = RacetrackEnv()\n",
    "\n",
    "# Initialise/reset environment.\n",
    "state = env.reset()\n",
    "env.render()\n",
    "print(\"Initial State: {}\".format(state))"
   ]
  },
  {
   "cell_type": "markdown",
   "metadata": {
    "deletable": false,
    "editable": false,
    "nbgrader": {
     "cell_type": "markdown",
     "checksum": "cf70e6e3c9fe761473c11366c91f40ff",
     "grade": false,
     "grade_id": "cell-b42bead8118e3c9e",
     "locked": true,
     "schema_version": 3,
     "solution": false,
     "task": false
    }
   },
   "source": [
    "As you can see, `reset()` has returned a valid initial state as a four-tuple. The function `plot()` uses the same colour-scheme as described above, but also includes a yellow grid-square to indicate the current position of the agent.\n",
    "\n",
    "Let's make the agent go upward by using `step(1)`, then inspect the result (recall that action `1` increments the agent's vertical speed while leaving the agent's horizontal speed unchanged)."
   ]
  },
  {
   "cell_type": "code",
   "execution_count": 2,
   "metadata": {
    "deletable": false,
    "editable": false,
    "nbgrader": {
     "cell_type": "code",
     "checksum": "409bb221e1080a4a02e52db851d6dc86",
     "grade": false,
     "grade_id": "cell-8cb86c18bf331894",
     "locked": true,
     "schema_version": 3,
     "solution": false,
     "task": false
    }
   },
   "outputs": [
    {
     "data": {
      "image/png": "[encoded data removed]",
      "text/plain": [
       "<Figure size 640x480 with 1 Axes>"
      ]
     },
     "metadata": {},
     "output_type": "display_data"
    },
    {
     "name": "stdout",
     "output_type": "stream",
     "text": [
      "Next State: (2, 3, 1, 0), Reward: -1, Terminal: False\n"
     ]
    }
   ],
   "source": [
    "# Let us increase the agent's vertical speed (action 1).\n",
    "next_state, reward, terminal = env.step(1)\n",
    "env.render()\n",
    "print(\"Next State: {}, Reward: {}, Terminal: {}\".format(next_state, reward, terminal))"
   ]
  },
  {
   "cell_type": "markdown",
   "metadata": {
    "deletable": false,
    "editable": false,
    "nbgrader": {
     "cell_type": "markdown",
     "checksum": "a68773faf856fac19dc863fe5e3b01f4",
     "grade": false,
     "grade_id": "cell-4f51e890424d0c2d",
     "locked": true,
     "schema_version": 3,
     "solution": false,
     "task": false
    }
   },
   "source": [
    "You can see that the agent has moved one square upwards, and now has a positive vertical speed (indicated by the yellow arrow). Let's set up a loop to see what happens if we take the action a few more times, causing it to repeatedly leave the track."
   ]
  },
  {
   "cell_type": "code",
   "execution_count": 3,
   "metadata": {
    "deletable": false,
    "editable": false,
    "nbgrader": {
     "cell_type": "code",
     "checksum": "50931f73b836a9941366a8e8b67805a2",
     "grade": false,
     "grade_id": "cell-ef8865037a9ebdeb",
     "locked": true,
     "schema_version": 3,
     "solution": false,
     "task": false
    }
   },
   "outputs": [
    {
     "data": {
      "image/png": "[encoded data removed]",
      "text/plain": [
       "<Figure size 640x480 with 1 Axes>"
      ]
     },
     "metadata": {},
     "output_type": "display_data"
    }
   ],
   "source": [
    "num_steps = 50\n",
    "for t in range(num_steps) :\n",
    "    next_state, reward, terminal = env.step(1)\n",
    "    env.render()"
   ]
  },
  {
   "cell_type": "markdown",
   "metadata": {
    "deletable": false,
    "editable": false,
    "nbgrader": {
     "cell_type": "markdown",
     "checksum": "861fb36a2a639caac9b53043114d4cbf",
     "grade": false,
     "grade_id": "cell-a21a5643628d8354",
     "locked": true,
     "schema_version": 3,
     "solution": false,
     "task": false
    }
   },
   "source": [
    "## Exercise: On-Policy MC Control\n",
    "\n",
    "### Instructions\n",
    "In this exercise, you will implement an agent which learns to reach a goal state in the racetrack task using On-Policy First-Visit MC Control, the pseudocode for which is reproduced below (Reinforcement Learning, Sutton & Barto, 2018, Section 5.4 p.101).\n",
    "\n",
    "<img src=\"images/mc_control_algo.png\" style=\"width: 650px;\"/>\n",
    "\n",
    "Please use the following parameter settings:\n",
    "- Discount factor $\\gamma = 0.9$.\n",
    "- For your $\\epsilon$-greedy policy, use exploratory action probability $\\epsilon = 0.15$.\n",
    "- Number of training episodes $= 150$.\n",
    "- Number of agents averaged should be at **least** 20.\n",
    "\n",
    "Your implementation of a tabular **On-Policy First-Visit MC Control** agent should produce a list named `mc_rewards`. This list should contain one list for each agent that you train. Each sub-list should contain the undiscounted sum of rewards earned during each episode by the corresponding agent. <br />\n",
    "For example, if you train $20$ agents, your `mc_rewards` list will contain $20$ sub-lists, each containing $150$ integers. Below your implementation, we will use this list to plot a **learning curve**, which shows the average return earned by your agents each episode.\n",
    "\n",
    "### Getting Started\n",
    "If you are having trouble implementing the pseudocode shown above, here are some hints to help you get started:\n",
    "- Monte Carlo agents work by generating full episodes of experience, and then making updates based on the states visited, actions taken, and rewards earned during those episodes. As such, it would make sense for your code to consist of two parts:\n",
    "    - One which generates an episode of experience.\n",
    "    - One which takes an episode of experience and performs updates based on it.\n",
    "- Python has many datastructures that could be useful for implementing RL agents.\n",
    "    - Dictionaries can be useful for representing your agent's Q-table, as they allow mappings from keys (state-action pairs) to values (action values).\n",
    "    - Tuples can be useful for storing the experience your agent generates each time-step (state, action, reward, next-state)."
   ]
  },
  {
   "cell_type": "code",
   "execution_count": 4,
   "metadata": {
    "deletable": false,
    "nbgrader": {
     "cell_type": "code",
     "checksum": "596a636f96ae5b76eb19c30b5ecee0ab",
     "grade": true,
     "grade_id": "cw2_racetrack_mc",
     "locked": false,
     "points": 6,
     "schema_version": 3,
     "solution": true,
     "task": false
    }
   },
   "outputs": [],
   "source": [
    "# Please write your code for Exercise 1 in this cell or in as many cells as you want ABOVE this cell.\n",
    "# You should implement your MC agent here.\n",
    "# Do NOT delete this cell.\n",
    "\n",
    "# Model answer written by Joshua Evans (jbe25@bath.ac.uk).\n",
    "import random\n",
    "from statistics import mean\n",
    "\n",
    "class MCAgent(object) :\n",
    "    \n",
    "    def __init__(self, env, epsilon = 0.15, gamma = 0.9) :\n",
    "        self.epsilon = epsilon\n",
    "        self.gamma = gamma\n",
    "        self.returns = {}\n",
    "        self.env = env\n",
    "    \n",
    "    def policy(self, state, greedy = False) :\n",
    "        # Get the list of actions \n",
    "        available_actions = self.env.get_actions().copy()\n",
    "        \n",
    "        # Shuffle the list of actions to act as a random tie-breaker, as\n",
    "        # list.index always returns the first matching element of a list.\n",
    "        random.shuffle(available_actions)\n",
    "        \n",
    "        # Take random action.\n",
    "        if (greedy == False and random.random() < self.epsilon) :\n",
    "            return random.choice(available_actions)\n",
    "        # Take greedy action.\n",
    "        else :\n",
    "            q_table = {(state, a) : mean(self.returns.get((state, a), [0])) for a in available_actions}\n",
    "            q_values = [q_table.get((state, a), 0) for a in available_actions]\n",
    "            return available_actions[q_values.index(max(q_values))]\n",
    "        \n",
    "    def learn(self, state_action_pairs, rewards, next_states) :\n",
    "        \n",
    "        episode_return = 0\n",
    "        \n",
    "        # Loop through our episode experience (backwards, as per the pseudocode).\n",
    "        while(len(state_action_pairs) > 0) :\n",
    "            \n",
    "            # We \"pop\" the last time-step from our experience lists\n",
    "            # each iteration until they are empty.\n",
    "            state, action = state_action_pairs.pop()\n",
    "            reward = rewards.pop()\n",
    "            next_state = next_states.pop()\n",
    "            \n",
    "            # Update the return earned after this time-step.\n",
    "            episode_return = reward + self.gamma * episode_return\n",
    "            \n",
    "            # If this is our first-visit to this state-action pair in this\n",
    "            # episode, update its list of returns.\n",
    "            if (not (state, action) in state_action_pairs) :\n",
    "                returns_list = self.returns.get((state, action), [])\n",
    "                returns_list.append(episode_return)\n",
    "                self.returns[(state, action)] = returns_list.copy()\n",
    "            \n",
    "    def generate_episode(self) :\n",
    "        \n",
    "        # Initialise variables for storing our agent's experience.\n",
    "        state_action_pairs = []\n",
    "        rewards = []\n",
    "        next_states = []\n",
    "        summed_rewards = 0\n",
    "        \n",
    "        # Initialise environment.\n",
    "        state = self.env.reset()\n",
    "        terminal = False\n",
    "        \n",
    "        # Generate a full episode of experience.\n",
    "        while (not terminal) :\n",
    "            action = self.policy(state)\n",
    "            next_state, reward, terminal = self.env.step(action)\n",
    "            \n",
    "            state_action_pairs.append((state, action))\n",
    "            rewards.append(reward)\n",
    "            next_states.append(next_state)\n",
    "            \n",
    "            state = next_state\n",
    "            \n",
    "            summed_rewards += reward\n",
    "            \n",
    "            if (terminal) :\n",
    "                break\n",
    "                \n",
    "        return state_action_pairs, rewards, next_states, summed_rewards\n",
    "    \n",
    "\n",
    "# Run 20 agents for 150 episodes, recording per-episode reward.\n",
    "num_agents = 20\n",
    "num_episodes = 150\n",
    "mc_rewards = []\n",
    "\n",
    "env = RacetrackEnv()\n",
    "\n",
    "for agent in range(0, num_agents) :\n",
    "    #print(\"Agent {}\".format(agent + 1))\n",
    "    episode_rewards = []\n",
    "\n",
    "    mcagent = MCAgent(env)\n",
    "    \n",
    "    for episode in range(0, num_episodes) :\n",
    "\n",
    "        # Update cumulative reward for episode.\n",
    "        state_action_pairs, rewards, next_states, sum_rewards = mcagent.generate_episode()\n",
    "        mcagent.learn(state_action_pairs, rewards, next_states)\n",
    "\n",
    "        episode_rewards.append(sum_rewards)\n",
    "    mc_rewards.append(episode_rewards)\n"
   ]
  },
  {
   "cell_type": "markdown",
   "metadata": {
    "deletable": false,
    "editable": false,
    "nbgrader": {
     "cell_type": "markdown",
     "checksum": "882b7898f91d6277e8fde861c7b3f32c",
     "grade": false,
     "grade_id": "cell-372290cf2c9c7f09",
     "locked": true,
     "schema_version": 3,
     "solution": false,
     "task": false
    }
   },
   "source": [
    "### Plotting a Learning Curve\n",
    "\n",
    "Below, we call a function that takes your `mc_rewards` list and uses it to plot a learning curve. This graph shows the average undiscounted return earned by your agents each episode.\n",
    "\n",
    "We have included results from a correct implementation to compare your results to. Your learning curve should be close to this example one, but do not worry it does not match it exactly as there will naturally be some variation during training."
   ]
  },
  {
   "cell_type": "code",
   "execution_count": 5,
   "metadata": {
    "deletable": false,
    "editable": false,
    "nbgrader": {
     "cell_type": "code",
     "checksum": "bbd1e202cbe799b9a0c167c83f0cd0ed",
     "grade": false,
     "grade_id": "cell-be9d8a57636c5b72",
     "locked": true,
     "schema_version": 3,
     "solution": false,
     "task": false
    }
   },
   "outputs": [
    {
     "data": {
      "image/png": "[encoded data removed]",
      "text/plain": [
       "<Figure size 1066.6x600 with 1 Axes>"
      ]
     },
     "metadata": {},
     "output_type": "display_data"
    }
   ],
   "source": [
    "from racetrack_env import plot_results\n",
    "from racetrack_env import simple_issue_checking\n",
    "\n",
    "# Checking MC Control Results for Obvious Issues.\n",
    "simple_issue_checking(mc_rewards)\n",
    "\n",
    "# Plotting MC Control Learning Curve.\n",
    "%matplotlib inline\n",
    "plot_results(mc_rewards = mc_rewards)"
   ]
  }
 ],
 "metadata": {
  "kernelspec": {
   "display_name": "Python 3",
   "language": "python",
   "name": "python3"
  },
  "language_info": {
   "codemirror_mode": {
    "name": "ipython",
    "version": 3
   },
   "file_extension": ".py",
   "mimetype": "text/x-python",
   "name": "python",
   "nbconvert_exporter": "python",
   "pygments_lexer": "ipython3",
   "version": "3.11.0"
  }
 },
 "nbformat": 4,
 "nbformat_minor": 2
}
