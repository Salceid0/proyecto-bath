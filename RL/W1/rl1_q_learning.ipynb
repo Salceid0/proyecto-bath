{
 "cells": [
  {
   "cell_type": "markdown",
   "metadata": {},
   "source": [
    "# The Agent-Environment Interaction\n",
    "\n",
    "In this exercise, you will implement the interaction of a reinforecment learning agent with its environment. We will use the gridworld environment from the second lecture. You will find a description of the environment below, along with two pieces of relevant material from the lectures: the agent-environment interface and the Q-learning algorithm.\n",
    "\n",
    "1. Create an agent that chooses actions randomly with this environment. \n",
    "\n",
    "2. Create an agent that uses Q-learning. You can use initial Q values of 0, a stochasticity parameter for the $\\epsilon$-greedy policy function $\\epsilon=0.05$, and a learning rate $\\alpha = 0.1$. But feel free to experiment with other settings of these three parameters.\n",
    "\n",
    "3. Plot the mean total reward (i.e. the undiscounted return) obtained by the two agents for each episode. This kind of graph is called a **learning curve**, and it gives us an idea of how our agent's performance changes during training.\n"
   ]
  },
  {
   "cell_type": "markdown",
   "metadata": {
    "collapsed": true
   },
   "source": [
    "## The agent-environment interface\n",
    "\n",
    "<img src=\"img/agent-environment.png\" style=\"width: 500px;\" align=\"left\"/> \n",
    "\n",
    "<br><br><br>\n",
    "\n",
    "The interaction of the agent with its environments starts at decision stage $t=0$ with the observation of the current state $s_0$. (Notice that there is no reward at this initial stage.) The agent then chooses an action to execute at decision stage $t=1$. The environment responds by changing its state to $s_1$ and returning the numerical reward signal $r_1$. \n"
   ]
  },
  {
   "cell_type": "markdown",
   "metadata": {},
   "source": [
    "## The environment: Navigation in a gridworld\n",
    "\n",
    "<img src=\"img/gold.png\" style=\"width: 250px;\" align=\"left\"/>\n",
    "\n",
    "The agent has four possible actions in each state (grid square): west, north, south, and east. The actions are unreliable. They move the agent in the intended direction with probability 0.8, and with probability 0.2, they move the agent in a random other direction. If the direction of movement is blocked, the agent remains in the same grid square. The initial state of the agent is one of the five grid squares at the bottom, selected randomly. The grid squares with the gold and the bomb are **terminal states**. If the agent finds itself in one of these squares, the episode ends. Then a new episode begins with the agent at a randomly selected initial state.\n",
    "\n",
    "You will use a reinforcement learning algorithm to compute the best policy for finding the gold with as few steps as possible while avoiding the bomb. For this, we will use the following reward function: $-1$ for each navigation action, an additional $+10$ for finding the gold, and an additional $-10$ for hitting the bomb. For example, the immediate reward for transitioning into the square with the gold is $-1 + 10 = +9$. Do not use discounting (that is, set $\\gamma=1$)."
   ]
  },
  {
   "cell_type": "markdown",
   "metadata": {
    "collapsed": true
   },
   "source": [
    "## Q-Learning\n",
    "For your reference, the pseudocode for the Q-Learning algorithm is reproduced below (Reinforcement Learning, Sutton & Barto, 2018, Section 6.5 p.131).\n",
    "<img src=\"img/q.png\" style=\"width: 720px;\"/>\n"
   ]
  },
  {
   "cell_type": "markdown",
   "metadata": {
    "collapsed": true
   },
   "source": [
    "## Example of a learning curve\n",
    "\n",
    "<img src=\"img/lc_example.png\" style=\"width: 550px;\" align=\"left\"/>\n",
    "\n",
    "<br><br><br><br>\n",
    "\n",
    "This is a sample learning curve and shows the reward obtained by a Q-learning agent across 500 episodes. Do not try to replicate this exact curve! It was computed using a different environment than the one described here."
   ]
  },
  {
   "cell_type": "code",
   "execution_count": 1,
   "metadata": {},
   "outputs": [],
   "source": [
    "# YOUR CODE HERE!\n",
    "import numpy as np"
   ]
  },
  {
   "cell_type": "markdown",
   "metadata": {},
   "source": [
    "### `Gridworld` Class\n"
   ]
  },
  {
   "cell_type": "code",
   "execution_count": 192,
   "metadata": {},
   "outputs": [],
   "source": [
    "class Gridworld:\n",
    "    def __init__(self):\n",
    "        self.num_rows = 5\n",
    "        self.num_cols = 5\n",
    "        self.num_cells = self.num_cols * self.num_rows\n",
    "        self.random_move_probability = 0.2\n",
    "\n",
    "        #Starting position for our agent\n",
    "        self.agent_position = np.array([0,np.random.randint(0,5)])\n",
    "\n",
    "        #Terminal states positions:\n",
    "        self.bomb_positions = [[3,3]]\n",
    "        self.gold_positions = [[4,3]]\n",
    "        self.terminal_states = np.concatenate([self.bomb_positions, self.gold_positions])\n",
    "\n",
    "        #Rewards\n",
    "        self.rewards = np.zeros([self.num_rows,self.num_cols])\n",
    "        for b_position in self.bomb_positions:\n",
    "            self.rewards[tuple(b_position)] = -10\n",
    "        for g_position in self.gold_positions:\n",
    "            self.rewards[tuple(g_position)] = 10 \n",
    "\n",
    "        #Possible actions\n",
    "        self.actions = [\"UP\", \"RIGHT\", \"DOWN\", \"LEFT\"]\n",
    "        self.num_actions = len(self.actions)\n",
    "\n",
    "    def get_available_actions(self):\n",
    "        return self.actions\n",
    "        \n",
    "    def make_step(self, action_index):\n",
    "        #Random step\n",
    "        if np.random.uniform(0,1) < self.random_move_probability:\n",
    "            action_indices = np.arange(self.num_actions,dtype=int)\n",
    "            action_indices = np.delete(action_indices,action_index)\n",
    "            action_index = np.random.choice(action_indices,1)[0]\n",
    "        action = self.actions[action_index]\n",
    "\n",
    "        #Determine new position and check if it hits a wall\n",
    "        old_position = self.agent_position\n",
    "        new_position = self.agent_position\n",
    "        if action == \"UP\":\n",
    "            if old_position[0] > 0:\n",
    "                new_position=old_position-[1,0]\n",
    "        elif action == \"RIGHT\":\n",
    "            if old_position[1] < 4:\n",
    "                new_position=old_position+[0,1]\n",
    "        elif action == \"DOWN\":\n",
    "            if old_position[0] < 4:\n",
    "                new_position=old_position+[1,0]\n",
    "        elif action == \"LEFT\":\n",
    "            if old_position[1] > 0:\n",
    "                new_position=old_position-[0,1]\n",
    "        else:\n",
    "            raise ValueError(\"Action was mis-specified.\")\n",
    "            \n",
    "        #Update enviroment state\n",
    "        self.agent_position= new_position\n",
    "\n",
    "        #rewards\n",
    "        reward = self.rewards[tuple(self.agent_position)]\n",
    "        reward -= 1\n",
    "\n",
    "        return reward,new_position\n",
    "\n",
    "    "
   ]
  },
  {
   "cell_type": "markdown",
   "metadata": {},
   "source": [
    "### `RandomAgent`Class"
   ]
  },
  {
   "cell_type": "code",
   "execution_count": 32,
   "metadata": {},
   "outputs": [],
   "source": [
    "class RandomAgent():\n",
    "    def choose_action(self, available_actions):\n",
    "        number_of_actions = len(available_actions)\n",
    "        random_action_index = np.random.randint(0, number_of_actions)\n",
    "        return random_action_index"
   ]
  },
  {
   "cell_type": "markdown",
   "metadata": {},
   "source": [
    "### Testing code"
   ]
  },
  {
   "cell_type": "code",
   "execution_count": 193,
   "metadata": {},
   "outputs": [],
   "source": [
    "env = Gridworld()\n",
    "agent = RandomAgent()"
   ]
  },
  {
   "cell_type": "code",
   "execution_count": 232,
   "metadata": {},
   "outputs": [
    {
     "name": "stdout",
     "output_type": "stream",
     "text": [
      "Current position of the agent = [0 2]\n",
      "Available_actions = ['UP', 'RIGHT', 'DOWN', 'LEFT']\n",
      "Randomly chosen action = 3\n",
      "Reward obtained = (-1.0, array([0, 1]))\n",
      "Current position of the agent = [0 1]\n",
      "[[  0.   0.   0.   0.   0.]\n",
      " [  0.   0.   0.   0.   0.]\n",
      " [  0.   0.   0.   0.   0.]\n",
      " [  0.   0.   0. -10.   0.]\n",
      " [  0.   0.   0.  10.   0.]]\n"
     ]
    }
   ],
   "source": [
    "print(\"Current position of the agent =\", env.agent_position)\n",
    "available_actions = env.get_available_actions()\n",
    "print(\"Available_actions =\", available_actions)\n",
    "chosen_action = agent.choose_action(available_actions)\n",
    "print(\"Randomly chosen action =\", chosen_action)\n",
    "reward = env.make_step(chosen_action)\n",
    "print(\"Reward obtained =\", reward)\n",
    "print(\"Current position of the agent =\", env.agent_position)\n",
    "print(env.rewards)"
   ]
  },
  {
   "cell_type": "code",
   "execution_count": null,
   "metadata": {},
   "outputs": [],
   "source": [
    "reward=np.zeros(100)\n",
    "for "
   ]
  }
 ],
 "metadata": {
  "kernelspec": {
   "display_name": "base",
   "language": "python",
   "name": "python3"
  },
  "language_info": {
   "codemirror_mode": {
    "name": "ipython",
    "version": 3
   },
   "file_extension": ".py",
   "mimetype": "text/x-python",
   "name": "python",
   "nbconvert_exporter": "python",
   "pygments_lexer": "ipython3",
   "version": "3.12.4"
  }
 },
 "nbformat": 4,
 "nbformat_minor": 2
}
