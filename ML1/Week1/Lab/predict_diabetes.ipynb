{
 "cells": [
  {
   "cell_type": "markdown",
   "metadata": {},
   "source": [
    "# First Neural Network with Keras\n",
    "In this tutorial, you will build your first **multilayer perceptron (MLP)** model (also your first neural network) in Python with Keras. As you will see, Keras is a easy-to-use deep API that allows you to easily build, train, evaluate and execute deep learning models. "
   ]
  },
  {
   "cell_type": "markdown",
   "metadata": {},
   "source": [
    "## 1. Load the dataset\n",
    "In this tutorial, we are going to use Pima Indians Diabetes dataset which is a standard machine learning dataset from the UCI Machine Learning repository. The dataset can be downloaded from <a href=\"https://raw.githubusercontent.com/jbrownlee/Datasets/master/pima-indians-diabetes.data.csv\" target=\"_blank\">here</a>. Place it in the same location as this notebook file.\n",
    "\n",
    "This is a comparably small dataset, with 768 samples in total. There are eight input features (X) and one output variable (y).\n",
    "\n",
    "Input features (X):\n",
    "\n",
    "1. Number of times pregnant\n",
    "2. Plasma glucose concentration a 2 hours in an oral glucose tolerance test\n",
    "3. Diastolic blood pressure (mm Hg)\n",
    "4. Triceps skin fold thickness (mm)\n",
    "5. 2-Hour serum insulin (mu U/ml)\n",
    "6. Body mass index (weight in kg/(height in m)^2)\n",
    "7. Diabetes pedigree function\n",
    "8. Age (years)\n",
    "\n",
    "Output Variables (y):\n",
    "\n",
    "1. Class label (1 for diabetes, 0 for not)\n",
    "\n",
    "First we need import all necessory libraries which we will need to work upon."
   ]
  },
  {
   "cell_type": "code",
   "execution_count": 2,
   "metadata": {},
   "outputs": [],
   "source": [
    "from numpy import loadtxt\n",
    "from keras.models import Sequential\n",
    "from keras.layers import Dense\n",
    "from sklearn.model_selection import train_test_split"
   ]
  },
  {
   "cell_type": "markdown",
   "metadata": {},
   "source": [
    "Here we use `numpy` function `loadtxt` to load the CSV file. In the file, each row corresponds to one example, with nine columns. We can then split them into the input features (X) and output labels (y)."
   ]
  },
  {
   "cell_type": "code",
   "execution_count": 3,
   "metadata": {},
   "outputs": [],
   "source": [
    "# load the dataset\n",
    "dataset = loadtxt('pima-indians-diabetes.csv',delimiter=',')\n",
    "# split into input X and output y variables\n",
    "X = dataset[:,0:8]\n",
    "y = dataset[:,8]"
   ]
  },
  {
   "cell_type": "markdown",
   "metadata": {},
   "source": [
    "Let's print the dimension of X. You may also want to have a look of a few samples."
   ]
  },
  {
   "cell_type": "code",
   "execution_count": 4,
   "metadata": {},
   "outputs": [
    {
     "name": "stdout",
     "output_type": "stream",
     "text": [
      "(768, 8)\n",
      "[  6.    148.     72.     35.      0.     33.6     0.627  50.      1.   ]\n",
      "[ 1.    85.    66.    29.     0.    26.6    0.351 31.     0.   ]\n",
      "[  8.    183.     64.      0.      0.     23.3     0.672  32.      1.   ]\n",
      "[ 1.    89.    66.    23.    94.    28.1    0.167 21.     0.   ]\n",
      "[  0.    137.     40.     35.    168.     43.1     2.288  33.      1.   ]\n"
     ]
    }
   ],
   "source": [
    "print(X.shape)\n",
    "for i in range(5):\n",
    "    print(dataset[i])"
   ]
  },
  {
   "cell_type": "markdown",
   "metadata": {},
   "source": [
    "Let's split them into training set and test set by using the `train_test_split( )` method from `sklearn`. `test_size = 0.2` means 20% examples are used for test. \n",
    "\n",
    "You must **treat the test set as unseen data**, which means any model adjustment must be done only on the training set. "
   ]
  },
  {
   "cell_type": "code",
   "execution_count": 5,
   "metadata": {},
   "outputs": [],
   "source": [
    "X_train, X_test, y_train, y_test = train_test_split(X, y, test_size=0.2, random_state=0)"
   ]
  },
  {
   "cell_type": "markdown",
   "metadata": {},
   "source": [
    "## 2. Prepare the data\n",
    "Usually there is a pre-processing step before building the model. What pre-processing should be carried out depends on the data and any requirement for the model. For this dataset, the eight features are in variant ranges and scales, which may lead to unstable weight learning. In this case, the common practice is to standardize the input data, to make each feature to be mean 0 and unit variance. The network would then be trained on a more stable distribution of inputs."
   ]
  },
  {
   "cell_type": "code",
   "execution_count": 6,
   "metadata": {},
   "outputs": [],
   "source": [
    "mean_train = X_train.mean(axis=0)\n",
    "std_train = X_train.std(axis=0)\n",
    "X_train = (X_train-mean_train)/std_train\n",
    "X_test = (X_test-mean_train)/std_train # Apply the same transformation on the testing set "
   ]
  },
  {
   "cell_type": "markdown",
   "metadata": {},
   "source": [
    "## 3. Build your network\n",
    "Now we are ready to build our neural network. In Keras, we first create a `sequential` model, then add layers one by one. \n",
    "\n",
    "As there are only 8 input features in this dataset, we may consider to build a small-size MLP: three fully connected layers (or `Dense` layers). For each `Dense` layer, we specify the number of neurons in the layer as the first argument, and specify the activation function using the `activation` argument. For the first `Dense` layer, we also need give the input feature dimension (`input_dim=8`).\n",
    "\n",
    "We use the Rectified Linear Unit (ReLU) activation function for the 2 hidden layers, as ReLU usually produces better performance compared to the Sigmoid or Tanh functions. We use a sigmoid on the output layer to ensure the network output is between 0 and 1 and easy to map to either a probability of class 1 or snap to a hard classification of either class with a default threshold of 0.5.\n",
    "\n",
    "Now lets's interprete the following code as follows.\n",
    "\n",
    "1. The model expects the input data containing 8 features (or columns).\n",
    "2. We add the first hidden layer with 12 neurons and use the ReLU activation fuction.\n",
    "3. We add the second hidden layer with 6 neurons and use the ReLu activation function.\n",
    "4. Finally, we add the output layer with 1 neuron and use the sigmoid activation function."
   ]
  },
  {
   "cell_type": "code",
   "execution_count": 9,
   "metadata": {},
   "outputs": [],
   "source": [
    "# define a keras model of a MLP network with three Dense layers\n",
    "model = Sequential()\n",
    "model.add(Dense(12, input_dim=8, activation = 'relu'))\n",
    "model.add(Dense(6,activation='relu'))\n",
    "model.add(Dense(1,activation='sigmoid'))"
   ]
  },
  {
   "cell_type": "markdown",
   "metadata": {},
   "source": [
    "You can use the `summary()` method to display all the model's layers. "
   ]
  },
  {
   "cell_type": "code",
   "execution_count": 10,
   "metadata": {},
   "outputs": [
    {
     "data": {
      "text/html": [
       "<pre style=\"white-space:pre;overflow-x:auto;line-height:normal;font-family:Menlo,'DejaVu Sans Mono',consolas,'Courier New',monospace\"><span style=\"font-weight: bold\">Model: \"sequential_1\"</span>\n",
       "</pre>\n"
      ],
      "text/plain": [
       "\u001b[1mModel: \"sequential_1\"\u001b[0m\n"
      ]
     },
     "metadata": {},
     "output_type": "display_data"
    },
    {
     "data": {
      "text/html": [
       "<pre style=\"white-space:pre;overflow-x:auto;line-height:normal;font-family:Menlo,'DejaVu Sans Mono',consolas,'Courier New',monospace\">┏━━━━━━━━━━━━━━━━━━━━━━━━━━━━━━━━━┳━━━━━━━━━━━━━━━━━━━━━━━━┳━━━━━━━━━━━━━━━┓\n",
       "┃<span style=\"font-weight: bold\"> Layer (type)                    </span>┃<span style=\"font-weight: bold\"> Output Shape           </span>┃<span style=\"font-weight: bold\">       Param # </span>┃\n",
       "┡━━━━━━━━━━━━━━━━━━━━━━━━━━━━━━━━━╇━━━━━━━━━━━━━━━━━━━━━━━━╇━━━━━━━━━━━━━━━┩\n",
       "│ dense_3 (<span style=\"color: #0087ff; text-decoration-color: #0087ff\">Dense</span>)                 │ (<span style=\"color: #00d7ff; text-decoration-color: #00d7ff\">None</span>, <span style=\"color: #00af00; text-decoration-color: #00af00\">12</span>)             │           <span style=\"color: #00af00; text-decoration-color: #00af00\">108</span> │\n",
       "├─────────────────────────────────┼────────────────────────┼───────────────┤\n",
       "│ dense_4 (<span style=\"color: #0087ff; text-decoration-color: #0087ff\">Dense</span>)                 │ (<span style=\"color: #00d7ff; text-decoration-color: #00d7ff\">None</span>, <span style=\"color: #00af00; text-decoration-color: #00af00\">6</span>)              │            <span style=\"color: #00af00; text-decoration-color: #00af00\">78</span> │\n",
       "├─────────────────────────────────┼────────────────────────┼───────────────┤\n",
       "│ dense_5 (<span style=\"color: #0087ff; text-decoration-color: #0087ff\">Dense</span>)                 │ (<span style=\"color: #00d7ff; text-decoration-color: #00d7ff\">None</span>, <span style=\"color: #00af00; text-decoration-color: #00af00\">1</span>)              │             <span style=\"color: #00af00; text-decoration-color: #00af00\">7</span> │\n",
       "└─────────────────────────────────┴────────────────────────┴───────────────┘\n",
       "</pre>\n"
      ],
      "text/plain": [
       "┏━━━━━━━━━━━━━━━━━━━━━━━━━━━━━━━━━┳━━━━━━━━━━━━━━━━━━━━━━━━┳━━━━━━━━━━━━━━━┓\n",
       "┃\u001b[1m \u001b[0m\u001b[1mLayer (type)                   \u001b[0m\u001b[1m \u001b[0m┃\u001b[1m \u001b[0m\u001b[1mOutput Shape          \u001b[0m\u001b[1m \u001b[0m┃\u001b[1m \u001b[0m\u001b[1m      Param #\u001b[0m\u001b[1m \u001b[0m┃\n",
       "┡━━━━━━━━━━━━━━━━━━━━━━━━━━━━━━━━━╇━━━━━━━━━━━━━━━━━━━━━━━━╇━━━━━━━━━━━━━━━┩\n",
       "│ dense_3 (\u001b[38;5;33mDense\u001b[0m)                 │ (\u001b[38;5;45mNone\u001b[0m, \u001b[38;5;34m12\u001b[0m)             │           \u001b[38;5;34m108\u001b[0m │\n",
       "├─────────────────────────────────┼────────────────────────┼───────────────┤\n",
       "│ dense_4 (\u001b[38;5;33mDense\u001b[0m)                 │ (\u001b[38;5;45mNone\u001b[0m, \u001b[38;5;34m6\u001b[0m)              │            \u001b[38;5;34m78\u001b[0m │\n",
       "├─────────────────────────────────┼────────────────────────┼───────────────┤\n",
       "│ dense_5 (\u001b[38;5;33mDense\u001b[0m)                 │ (\u001b[38;5;45mNone\u001b[0m, \u001b[38;5;34m1\u001b[0m)              │             \u001b[38;5;34m7\u001b[0m │\n",
       "└─────────────────────────────────┴────────────────────────┴───────────────┘\n"
      ]
     },
     "metadata": {},
     "output_type": "display_data"
    },
    {
     "data": {
      "text/html": [
       "<pre style=\"white-space:pre;overflow-x:auto;line-height:normal;font-family:Menlo,'DejaVu Sans Mono',consolas,'Courier New',monospace\"><span style=\"font-weight: bold\"> Total params: </span><span style=\"color: #00af00; text-decoration-color: #00af00\">193</span> (772.00 B)\n",
       "</pre>\n"
      ],
      "text/plain": [
       "\u001b[1m Total params: \u001b[0m\u001b[38;5;34m193\u001b[0m (772.00 B)\n"
      ]
     },
     "metadata": {},
     "output_type": "display_data"
    },
    {
     "data": {
      "text/html": [
       "<pre style=\"white-space:pre;overflow-x:auto;line-height:normal;font-family:Menlo,'DejaVu Sans Mono',consolas,'Courier New',monospace\"><span style=\"font-weight: bold\"> Trainable params: </span><span style=\"color: #00af00; text-decoration-color: #00af00\">193</span> (772.00 B)\n",
       "</pre>\n"
      ],
      "text/plain": [
       "\u001b[1m Trainable params: \u001b[0m\u001b[38;5;34m193\u001b[0m (772.00 B)\n"
      ]
     },
     "metadata": {},
     "output_type": "display_data"
    },
    {
     "data": {
      "text/html": [
       "<pre style=\"white-space:pre;overflow-x:auto;line-height:normal;font-family:Menlo,'DejaVu Sans Mono',consolas,'Courier New',monospace\"><span style=\"font-weight: bold\"> Non-trainable params: </span><span style=\"color: #00af00; text-decoration-color: #00af00\">0</span> (0.00 B)\n",
       "</pre>\n"
      ],
      "text/plain": [
       "\u001b[1m Non-trainable params: \u001b[0m\u001b[38;5;34m0\u001b[0m (0.00 B)\n"
      ]
     },
     "metadata": {},
     "output_type": "display_data"
    }
   ],
   "source": [
    "model.summary()"
   ]
  },
  {
   "cell_type": "markdown",
   "metadata": {},
   "source": [
    "Dense layers often have a lot of parameters. Even we build such a small MLP, there are 193 parameters in total. Let's see how the numbers are calculated. For example, the first hidden layer has 8 x 12 connection weights, plus 8 bias terms, which adds up to 108 parameters. "
   ]
  },
  {
   "cell_type": "markdown",
   "metadata": {},
   "source": [
    "## 3. Compile the model\n",
    "After the model is created, you must call the `compile()` method to specify the `loss` function and the `optimizer` to use. Optionally, you can specify a list of extra `metrics` to compute and report during training and evaluation.\n",
    "\n",
    "Regarding the binary classification problem, the typical loss function is `binary_crossentropy` defined in Keras. \n",
    "\n",
    "We choose the efficient stochastic gradient descent algorithm `adam` as the optimizer. It is a popular choice as it adaptively chooses the learning rate and gives good results in a wide range of problems. \n",
    "\n",
    "Since it is a classification problem, it is more intuitive to measure and report the classification `accuracy`, defined via the `metrics` argument. "
   ]
  },
  {
   "cell_type": "code",
   "execution_count": 11,
   "metadata": {},
   "outputs": [],
   "source": [
    "# compile the model\n",
    "model.compile(loss='binary_crossentropy', optimizer='adam',metrics=['accuracy'])"
   ]
  },
  {
   "cell_type": "markdown",
   "metadata": {},
   "source": [
    "## 4. Train and validate the model\n",
    "Now the model is ready to be trained. For this we simply call its `fit()` method. We'll train the model for 120 epochs (120 itrations over all samples in the training set), in mini-batches of 32 samples. (If you don't know what mini-batch means, don't worry, we will talk about it in our later lectures.)\n",
    "\n",
    "We also split 25% examples in the training set as a validation set (this is optional). Keras will measure the loss and the accuracy on this validation set at the end of each epoch, which is very useful to see how well the model performs. Based on the performance on the validation set, we could modify the model and tune the hyperparameters accordingly."
   ]
  },
  {
   "cell_type": "code",
   "execution_count": 12,
   "metadata": {},
   "outputs": [
    {
     "name": "stdout",
     "output_type": "stream",
     "text": [
      "Epoch 1/120\n",
      "\u001b[1m15/15\u001b[0m \u001b[32m━━━━━━━━━━━━━━━━━━━━\u001b[0m\u001b[37m\u001b[0m \u001b[1m1s\u001b[0m 13ms/step - accuracy: 0.5711 - loss: 0.6954 - val_accuracy: 0.6688 - val_loss: 0.6692\n",
      "Epoch 2/120\n",
      "\u001b[1m15/15\u001b[0m \u001b[32m━━━━━━━━━━━━━━━━━━━━\u001b[0m\u001b[37m\u001b[0m \u001b[1m0s\u001b[0m 4ms/step - accuracy: 0.5786 - loss: 0.6844 - val_accuracy: 0.6753 - val_loss: 0.6573\n",
      "Epoch 3/120\n",
      "\u001b[1m15/15\u001b[0m \u001b[32m━━━━━━━━━━━━━━━━━━━━\u001b[0m\u001b[37m\u001b[0m \u001b[1m0s\u001b[0m 5ms/step - accuracy: 0.6692 - loss: 0.6589 - val_accuracy: 0.6753 - val_loss: 0.6446\n",
      "Epoch 4/120\n",
      "\u001b[1m15/15\u001b[0m \u001b[32m━━━━━━━━━━━━━━━━━━━━\u001b[0m\u001b[37m\u001b[0m \u001b[1m0s\u001b[0m 4ms/step - accuracy: 0.6823 - loss: 0.6538 - val_accuracy: 0.6753 - val_loss: 0.6324\n",
      "Epoch 5/120\n",
      "\u001b[1m15/15\u001b[0m \u001b[32m━━━━━━━━━━━━━━━━━━━━\u001b[0m\u001b[37m\u001b[0m \u001b[1m0s\u001b[0m 5ms/step - accuracy: 0.6928 - loss: 0.6323 - val_accuracy: 0.6753 - val_loss: 0.6210\n",
      "Epoch 6/120\n",
      "\u001b[1m15/15\u001b[0m \u001b[32m━━━━━━━━━━━━━━━━━━━━\u001b[0m\u001b[37m\u001b[0m \u001b[1m0s\u001b[0m 5ms/step - accuracy: 0.7023 - loss: 0.6334 - val_accuracy: 0.6883 - val_loss: 0.6085\n",
      "Epoch 7/120\n",
      "\u001b[1m15/15\u001b[0m \u001b[32m━━━━━━━━━━━━━━━━━━━━\u001b[0m\u001b[37m\u001b[0m \u001b[1m0s\u001b[0m 5ms/step - accuracy: 0.7024 - loss: 0.6191 - val_accuracy: 0.6818 - val_loss: 0.5969\n",
      "Epoch 8/120\n",
      "\u001b[1m15/15\u001b[0m \u001b[32m━━━━━━━━━━━━━━━━━━━━\u001b[0m\u001b[37m\u001b[0m \u001b[1m0s\u001b[0m 5ms/step - accuracy: 0.7092 - loss: 0.6064 - val_accuracy: 0.6818 - val_loss: 0.5856\n",
      "Epoch 9/120\n",
      "\u001b[1m15/15\u001b[0m \u001b[32m━━━━━━━━━━━━━━━━━━━━\u001b[0m\u001b[37m\u001b[0m \u001b[1m0s\u001b[0m 5ms/step - accuracy: 0.6598 - loss: 0.6079 - val_accuracy: 0.6883 - val_loss: 0.5750\n",
      "Epoch 10/120\n",
      "\u001b[1m15/15\u001b[0m \u001b[32m━━━━━━━━━━━━━━━━━━━━\u001b[0m\u001b[37m\u001b[0m \u001b[1m0s\u001b[0m 5ms/step - accuracy: 0.6734 - loss: 0.6059 - val_accuracy: 0.6948 - val_loss: 0.5661\n",
      "Epoch 11/120\n",
      "\u001b[1m15/15\u001b[0m \u001b[32m━━━━━━━━━━━━━━━━━━━━\u001b[0m\u001b[37m\u001b[0m \u001b[1m0s\u001b[0m 4ms/step - accuracy: 0.6880 - loss: 0.5872 - val_accuracy: 0.7078 - val_loss: 0.5577\n",
      "Epoch 12/120\n",
      "\u001b[1m15/15\u001b[0m \u001b[32m━━━━━━━━━━━━━━━━━━━━\u001b[0m\u001b[37m\u001b[0m \u001b[1m0s\u001b[0m 5ms/step - accuracy: 0.7096 - loss: 0.5651 - val_accuracy: 0.7078 - val_loss: 0.5496\n",
      "Epoch 13/120\n",
      "\u001b[1m15/15\u001b[0m \u001b[32m━━━━━━━━━━━━━━━━━━━━\u001b[0m\u001b[37m\u001b[0m \u001b[1m0s\u001b[0m 5ms/step - accuracy: 0.6974 - loss: 0.5751 - val_accuracy: 0.7143 - val_loss: 0.5431\n",
      "Epoch 14/120\n",
      "\u001b[1m15/15\u001b[0m \u001b[32m━━━━━━━━━━━━━━━━━━━━\u001b[0m\u001b[37m\u001b[0m \u001b[1m0s\u001b[0m 5ms/step - accuracy: 0.7246 - loss: 0.5353 - val_accuracy: 0.7143 - val_loss: 0.5373\n",
      "Epoch 15/120\n",
      "\u001b[1m15/15\u001b[0m \u001b[32m━━━━━━━━━━━━━━━━━━━━\u001b[0m\u001b[37m\u001b[0m \u001b[1m0s\u001b[0m 5ms/step - accuracy: 0.7326 - loss: 0.5360 - val_accuracy: 0.7273 - val_loss: 0.5327\n",
      "Epoch 16/120\n",
      "\u001b[1m15/15\u001b[0m \u001b[32m━━━━━━━━━━━━━━━━━━━━\u001b[0m\u001b[37m\u001b[0m \u001b[1m0s\u001b[0m 5ms/step - accuracy: 0.7297 - loss: 0.5463 - val_accuracy: 0.7208 - val_loss: 0.5289\n",
      "Epoch 17/120\n",
      "\u001b[1m15/15\u001b[0m \u001b[32m━━━━━━━━━━━━━━━━━━━━\u001b[0m\u001b[37m\u001b[0m \u001b[1m0s\u001b[0m 5ms/step - accuracy: 0.7635 - loss: 0.5123 - val_accuracy: 0.7208 - val_loss: 0.5250\n",
      "Epoch 18/120\n",
      "\u001b[1m15/15\u001b[0m \u001b[32m━━━━━━━━━━━━━━━━━━━━\u001b[0m\u001b[37m\u001b[0m \u001b[1m0s\u001b[0m 5ms/step - accuracy: 0.7013 - loss: 0.5349 - val_accuracy: 0.7273 - val_loss: 0.5228\n",
      "Epoch 19/120\n",
      "\u001b[1m15/15\u001b[0m \u001b[32m━━━━━━━━━━━━━━━━━━━━\u001b[0m\u001b[37m\u001b[0m \u001b[1m0s\u001b[0m 5ms/step - accuracy: 0.7333 - loss: 0.5254 - val_accuracy: 0.7208 - val_loss: 0.5209\n",
      "Epoch 20/120\n",
      "\u001b[1m15/15\u001b[0m \u001b[32m━━━━━━━━━━━━━━━━━━━━\u001b[0m\u001b[37m\u001b[0m \u001b[1m0s\u001b[0m 5ms/step - accuracy: 0.7595 - loss: 0.5286 - val_accuracy: 0.7338 - val_loss: 0.5191\n",
      "Epoch 21/120\n",
      "\u001b[1m15/15\u001b[0m \u001b[32m━━━━━━━━━━━━━━━━━━━━\u001b[0m\u001b[37m\u001b[0m \u001b[1m0s\u001b[0m 5ms/step - accuracy: 0.7645 - loss: 0.5047 - val_accuracy: 0.7338 - val_loss: 0.5177\n",
      "Epoch 22/120\n",
      "\u001b[1m15/15\u001b[0m \u001b[32m━━━━━━━━━━━━━━━━━━━━\u001b[0m\u001b[37m\u001b[0m \u001b[1m0s\u001b[0m 4ms/step - accuracy: 0.7628 - loss: 0.5038 - val_accuracy: 0.7273 - val_loss: 0.5163\n",
      "Epoch 23/120\n",
      "\u001b[1m15/15\u001b[0m \u001b[32m━━━━━━━━━━━━━━━━━━━━\u001b[0m\u001b[37m\u001b[0m \u001b[1m0s\u001b[0m 4ms/step - accuracy: 0.7554 - loss: 0.5174 - val_accuracy: 0.7338 - val_loss: 0.5153\n",
      "Epoch 24/120\n",
      "\u001b[1m15/15\u001b[0m \u001b[32m━━━━━━━━━━━━━━━━━━━━\u001b[0m\u001b[37m\u001b[0m \u001b[1m0s\u001b[0m 5ms/step - accuracy: 0.7871 - loss: 0.4736 - val_accuracy: 0.7338 - val_loss: 0.5144\n",
      "Epoch 25/120\n",
      "\u001b[1m15/15\u001b[0m \u001b[32m━━━━━━━━━━━━━━━━━━━━\u001b[0m\u001b[37m\u001b[0m \u001b[1m0s\u001b[0m 5ms/step - accuracy: 0.7447 - loss: 0.5191 - val_accuracy: 0.7468 - val_loss: 0.5139\n",
      "Epoch 26/120\n",
      "\u001b[1m15/15\u001b[0m \u001b[32m━━━━━━━━━━━━━━━━━━━━\u001b[0m\u001b[37m\u001b[0m \u001b[1m0s\u001b[0m 5ms/step - accuracy: 0.7224 - loss: 0.5250 - val_accuracy: 0.7468 - val_loss: 0.5135\n",
      "Epoch 27/120\n",
      "\u001b[1m15/15\u001b[0m \u001b[32m━━━━━━━━━━━━━━━━━━━━\u001b[0m\u001b[37m\u001b[0m \u001b[1m0s\u001b[0m 5ms/step - accuracy: 0.7860 - loss: 0.4904 - val_accuracy: 0.7468 - val_loss: 0.5125\n",
      "Epoch 28/120\n",
      "\u001b[1m15/15\u001b[0m \u001b[32m━━━━━━━━━━━━━━━━━━━━\u001b[0m\u001b[37m\u001b[0m \u001b[1m0s\u001b[0m 5ms/step - accuracy: 0.7326 - loss: 0.5069 - val_accuracy: 0.7468 - val_loss: 0.5113\n",
      "Epoch 29/120\n",
      "\u001b[1m15/15\u001b[0m \u001b[32m━━━━━━━━━━━━━━━━━━━━\u001b[0m\u001b[37m\u001b[0m \u001b[1m0s\u001b[0m 4ms/step - accuracy: 0.7358 - loss: 0.5298 - val_accuracy: 0.7468 - val_loss: 0.5100\n",
      "Epoch 30/120\n",
      "\u001b[1m15/15\u001b[0m \u001b[32m━━━━━━━━━━━━━━━━━━━━\u001b[0m\u001b[37m\u001b[0m \u001b[1m0s\u001b[0m 5ms/step - accuracy: 0.7660 - loss: 0.4933 - val_accuracy: 0.7403 - val_loss: 0.5095\n",
      "Epoch 31/120\n",
      "\u001b[1m15/15\u001b[0m \u001b[32m━━━━━━━━━━━━━━━━━━━━\u001b[0m\u001b[37m\u001b[0m \u001b[1m0s\u001b[0m 4ms/step - accuracy: 0.7676 - loss: 0.4698 - val_accuracy: 0.7403 - val_loss: 0.5090\n",
      "Epoch 32/120\n",
      "\u001b[1m15/15\u001b[0m \u001b[32m━━━━━━━━━━━━━━━━━━━━\u001b[0m\u001b[37m\u001b[0m \u001b[1m0s\u001b[0m 5ms/step - accuracy: 0.7687 - loss: 0.4997 - val_accuracy: 0.7403 - val_loss: 0.5081\n",
      "Epoch 33/120\n",
      "\u001b[1m15/15\u001b[0m \u001b[32m━━━━━━━━━━━━━━━━━━━━\u001b[0m\u001b[37m\u001b[0m \u001b[1m0s\u001b[0m 5ms/step - accuracy: 0.7477 - loss: 0.5070 - val_accuracy: 0.7403 - val_loss: 0.5078\n",
      "Epoch 34/120\n",
      "\u001b[1m15/15\u001b[0m \u001b[32m━━━━━━━━━━━━━━━━━━━━\u001b[0m\u001b[37m\u001b[0m \u001b[1m0s\u001b[0m 5ms/step - accuracy: 0.7541 - loss: 0.4907 - val_accuracy: 0.7403 - val_loss: 0.5076\n",
      "Epoch 35/120\n",
      "\u001b[1m15/15\u001b[0m \u001b[32m━━━━━━━━━━━━━━━━━━━━\u001b[0m\u001b[37m\u001b[0m \u001b[1m0s\u001b[0m 5ms/step - accuracy: 0.7614 - loss: 0.4878 - val_accuracy: 0.7403 - val_loss: 0.5070\n",
      "Epoch 36/120\n",
      "\u001b[1m15/15\u001b[0m \u001b[32m━━━━━━━━━━━━━━━━━━━━\u001b[0m\u001b[37m\u001b[0m \u001b[1m0s\u001b[0m 5ms/step - accuracy: 0.7703 - loss: 0.4821 - val_accuracy: 0.7403 - val_loss: 0.5066\n",
      "Epoch 37/120\n",
      "\u001b[1m15/15\u001b[0m \u001b[32m━━━━━━━━━━━━━━━━━━━━\u001b[0m\u001b[37m\u001b[0m \u001b[1m0s\u001b[0m 5ms/step - accuracy: 0.7555 - loss: 0.4723 - val_accuracy: 0.7403 - val_loss: 0.5064\n",
      "Epoch 38/120\n",
      "\u001b[1m15/15\u001b[0m \u001b[32m━━━━━━━━━━━━━━━━━━━━\u001b[0m\u001b[37m\u001b[0m \u001b[1m0s\u001b[0m 5ms/step - accuracy: 0.7745 - loss: 0.4735 - val_accuracy: 0.7468 - val_loss: 0.5057\n",
      "Epoch 39/120\n",
      "\u001b[1m15/15\u001b[0m \u001b[32m━━━━━━━━━━━━━━━━━━━━\u001b[0m\u001b[37m\u001b[0m \u001b[1m0s\u001b[0m 5ms/step - accuracy: 0.7503 - loss: 0.4987 - val_accuracy: 0.7532 - val_loss: 0.5051\n",
      "Epoch 40/120\n",
      "\u001b[1m15/15\u001b[0m \u001b[32m━━━━━━━━━━━━━━━━━━━━\u001b[0m\u001b[37m\u001b[0m \u001b[1m0s\u001b[0m 5ms/step - accuracy: 0.7730 - loss: 0.4636 - val_accuracy: 0.7532 - val_loss: 0.5050\n",
      "Epoch 41/120\n",
      "\u001b[1m15/15\u001b[0m \u001b[32m━━━━━━━━━━━━━━━━━━━━\u001b[0m\u001b[37m\u001b[0m \u001b[1m0s\u001b[0m 5ms/step - accuracy: 0.7863 - loss: 0.4651 - val_accuracy: 0.7532 - val_loss: 0.5035\n",
      "Epoch 42/120\n",
      "\u001b[1m15/15\u001b[0m \u001b[32m━━━━━━━━━━━━━━━━━━━━\u001b[0m\u001b[37m\u001b[0m \u001b[1m0s\u001b[0m 5ms/step - accuracy: 0.8166 - loss: 0.4392 - val_accuracy: 0.7532 - val_loss: 0.5032\n",
      "Epoch 43/120\n",
      "\u001b[1m15/15\u001b[0m \u001b[32m━━━━━━━━━━━━━━━━━━━━\u001b[0m\u001b[37m\u001b[0m \u001b[1m0s\u001b[0m 5ms/step - accuracy: 0.7752 - loss: 0.4676 - val_accuracy: 0.7532 - val_loss: 0.5012\n",
      "Epoch 44/120\n",
      "\u001b[1m15/15\u001b[0m \u001b[32m━━━━━━━━━━━━━━━━━━━━\u001b[0m\u001b[37m\u001b[0m \u001b[1m0s\u001b[0m 6ms/step - accuracy: 0.7514 - loss: 0.5078 - val_accuracy: 0.7532 - val_loss: 0.5006\n",
      "Epoch 45/120\n",
      "\u001b[1m15/15\u001b[0m \u001b[32m━━━━━━━━━━━━━━━━━━━━\u001b[0m\u001b[37m\u001b[0m \u001b[1m0s\u001b[0m 5ms/step - accuracy: 0.7591 - loss: 0.5259 - val_accuracy: 0.7468 - val_loss: 0.5002\n",
      "Epoch 46/120\n",
      "\u001b[1m15/15\u001b[0m \u001b[32m━━━━━━━━━━━━━━━━━━━━\u001b[0m\u001b[37m\u001b[0m \u001b[1m0s\u001b[0m 5ms/step - accuracy: 0.7721 - loss: 0.4861 - val_accuracy: 0.7338 - val_loss: 0.5002\n",
      "Epoch 47/120\n",
      "\u001b[1m15/15\u001b[0m \u001b[32m━━━━━━━━━━━━━━━━━━━━\u001b[0m\u001b[37m\u001b[0m \u001b[1m0s\u001b[0m 5ms/step - accuracy: 0.8146 - loss: 0.4473 - val_accuracy: 0.7338 - val_loss: 0.4999\n",
      "Epoch 48/120\n",
      "\u001b[1m15/15\u001b[0m \u001b[32m━━━━━━━━━━━━━━━━━━━━\u001b[0m\u001b[37m\u001b[0m \u001b[1m0s\u001b[0m 4ms/step - accuracy: 0.7859 - loss: 0.4720 - val_accuracy: 0.7338 - val_loss: 0.4999\n",
      "Epoch 49/120\n",
      "\u001b[1m15/15\u001b[0m \u001b[32m━━━━━━━━━━━━━━━━━━━━\u001b[0m\u001b[37m\u001b[0m \u001b[1m0s\u001b[0m 4ms/step - accuracy: 0.7675 - loss: 0.4573 - val_accuracy: 0.7338 - val_loss: 0.4995\n",
      "Epoch 50/120\n",
      "\u001b[1m15/15\u001b[0m \u001b[32m━━━━━━━━━━━━━━━━━━━━\u001b[0m\u001b[37m\u001b[0m \u001b[1m0s\u001b[0m 5ms/step - accuracy: 0.8033 - loss: 0.4506 - val_accuracy: 0.7468 - val_loss: 0.4990\n",
      "Epoch 51/120\n",
      "\u001b[1m15/15\u001b[0m \u001b[32m━━━━━━━━━━━━━━━━━━━━\u001b[0m\u001b[37m\u001b[0m \u001b[1m0s\u001b[0m 5ms/step - accuracy: 0.7872 - loss: 0.4686 - val_accuracy: 0.7468 - val_loss: 0.4986\n",
      "Epoch 52/120\n",
      "\u001b[1m15/15\u001b[0m \u001b[32m━━━━━━━━━━━━━━━━━━━━\u001b[0m\u001b[37m\u001b[0m \u001b[1m0s\u001b[0m 5ms/step - accuracy: 0.7702 - loss: 0.4675 - val_accuracy: 0.7403 - val_loss: 0.4980\n",
      "Epoch 53/120\n",
      "\u001b[1m15/15\u001b[0m \u001b[32m━━━━━━━━━━━━━━━━━━━━\u001b[0m\u001b[37m\u001b[0m \u001b[1m0s\u001b[0m 5ms/step - accuracy: 0.7879 - loss: 0.4727 - val_accuracy: 0.7532 - val_loss: 0.4979\n",
      "Epoch 54/120\n",
      "\u001b[1m15/15\u001b[0m \u001b[32m━━━━━━━━━━━━━━━━━━━━\u001b[0m\u001b[37m\u001b[0m \u001b[1m0s\u001b[0m 5ms/step - accuracy: 0.8146 - loss: 0.4316 - val_accuracy: 0.7468 - val_loss: 0.4979\n",
      "Epoch 55/120\n",
      "\u001b[1m15/15\u001b[0m \u001b[32m━━━━━━━━━━━━━━━━━━━━\u001b[0m\u001b[37m\u001b[0m \u001b[1m0s\u001b[0m 5ms/step - accuracy: 0.7875 - loss: 0.4774 - val_accuracy: 0.7468 - val_loss: 0.4979\n",
      "Epoch 56/120\n",
      "\u001b[1m15/15\u001b[0m \u001b[32m━━━━━━━━━━━━━━━━━━━━\u001b[0m\u001b[37m\u001b[0m \u001b[1m0s\u001b[0m 4ms/step - accuracy: 0.7719 - loss: 0.4802 - val_accuracy: 0.7468 - val_loss: 0.4974\n",
      "Epoch 57/120\n",
      "\u001b[1m15/15\u001b[0m \u001b[32m━━━━━━━━━━━━━━━━━━━━\u001b[0m\u001b[37m\u001b[0m \u001b[1m0s\u001b[0m 4ms/step - accuracy: 0.7913 - loss: 0.4578 - val_accuracy: 0.7468 - val_loss: 0.4969\n",
      "Epoch 58/120\n",
      "\u001b[1m15/15\u001b[0m \u001b[32m━━━━━━━━━━━━━━━━━━━━\u001b[0m\u001b[37m\u001b[0m \u001b[1m0s\u001b[0m 5ms/step - accuracy: 0.8059 - loss: 0.4381 - val_accuracy: 0.7468 - val_loss: 0.4975\n",
      "Epoch 59/120\n",
      "\u001b[1m15/15\u001b[0m \u001b[32m━━━━━━━━━━━━━━━━━━━━\u001b[0m\u001b[37m\u001b[0m \u001b[1m0s\u001b[0m 5ms/step - accuracy: 0.8000 - loss: 0.4335 - val_accuracy: 0.7468 - val_loss: 0.4969\n",
      "Epoch 60/120\n",
      "\u001b[1m15/15\u001b[0m \u001b[32m━━━━━━━━━━━━━━━━━━━━\u001b[0m\u001b[37m\u001b[0m \u001b[1m0s\u001b[0m 5ms/step - accuracy: 0.7644 - loss: 0.4794 - val_accuracy: 0.7468 - val_loss: 0.4967\n",
      "Epoch 61/120\n",
      "\u001b[1m15/15\u001b[0m \u001b[32m━━━━━━━━━━━━━━━━━━━━\u001b[0m\u001b[37m\u001b[0m \u001b[1m0s\u001b[0m 5ms/step - accuracy: 0.7722 - loss: 0.4697 - val_accuracy: 0.7468 - val_loss: 0.4963\n",
      "Epoch 62/120\n",
      "\u001b[1m15/15\u001b[0m \u001b[32m━━━━━━━━━━━━━━━━━━━━\u001b[0m\u001b[37m\u001b[0m \u001b[1m0s\u001b[0m 5ms/step - accuracy: 0.7896 - loss: 0.4569 - val_accuracy: 0.7468 - val_loss: 0.4965\n",
      "Epoch 63/120\n",
      "\u001b[1m15/15\u001b[0m \u001b[32m━━━━━━━━━━━━━━━━━━━━\u001b[0m\u001b[37m\u001b[0m \u001b[1m0s\u001b[0m 5ms/step - accuracy: 0.7890 - loss: 0.4830 - val_accuracy: 0.7468 - val_loss: 0.4958\n",
      "Epoch 64/120\n",
      "\u001b[1m15/15\u001b[0m \u001b[32m━━━━━━━━━━━━━━━━━━━━\u001b[0m\u001b[37m\u001b[0m \u001b[1m0s\u001b[0m 5ms/step - accuracy: 0.8021 - loss: 0.4525 - val_accuracy: 0.7468 - val_loss: 0.4961\n",
      "Epoch 65/120\n",
      "\u001b[1m15/15\u001b[0m \u001b[32m━━━━━━━━━━━━━━━━━━━━\u001b[0m\u001b[37m\u001b[0m \u001b[1m0s\u001b[0m 5ms/step - accuracy: 0.8305 - loss: 0.4168 - val_accuracy: 0.7468 - val_loss: 0.4970\n",
      "Epoch 66/120\n",
      "\u001b[1m15/15\u001b[0m \u001b[32m━━━━━━━━━━━━━━━━━━━━\u001b[0m\u001b[37m\u001b[0m \u001b[1m0s\u001b[0m 5ms/step - accuracy: 0.8012 - loss: 0.4321 - val_accuracy: 0.7468 - val_loss: 0.4964\n",
      "Epoch 67/120\n",
      "\u001b[1m15/15\u001b[0m \u001b[32m━━━━━━━━━━━━━━━━━━━━\u001b[0m\u001b[37m\u001b[0m \u001b[1m0s\u001b[0m 5ms/step - accuracy: 0.7678 - loss: 0.4458 - val_accuracy: 0.7468 - val_loss: 0.4959\n",
      "Epoch 68/120\n",
      "\u001b[1m15/15\u001b[0m \u001b[32m━━━━━━━━━━━━━━━━━━━━\u001b[0m\u001b[37m\u001b[0m \u001b[1m0s\u001b[0m 5ms/step - accuracy: 0.7779 - loss: 0.4495 - val_accuracy: 0.7468 - val_loss: 0.4965\n",
      "Epoch 69/120\n",
      "\u001b[1m15/15\u001b[0m \u001b[32m━━━━━━━━━━━━━━━━━━━━\u001b[0m\u001b[37m\u001b[0m \u001b[1m0s\u001b[0m 5ms/step - accuracy: 0.7825 - loss: 0.4447 - val_accuracy: 0.7468 - val_loss: 0.4963\n",
      "Epoch 70/120\n",
      "\u001b[1m15/15\u001b[0m \u001b[32m━━━━━━━━━━━━━━━━━━━━\u001b[0m\u001b[37m\u001b[0m \u001b[1m0s\u001b[0m 5ms/step - accuracy: 0.8054 - loss: 0.4377 - val_accuracy: 0.7468 - val_loss: 0.4962\n",
      "Epoch 71/120\n",
      "\u001b[1m15/15\u001b[0m \u001b[32m━━━━━━━━━━━━━━━━━━━━\u001b[0m\u001b[37m\u001b[0m \u001b[1m0s\u001b[0m 7ms/step - accuracy: 0.8152 - loss: 0.4215 - val_accuracy: 0.7468 - val_loss: 0.4962\n",
      "Epoch 72/120\n",
      "\u001b[1m15/15\u001b[0m \u001b[32m━━━━━━━━━━━━━━━━━━━━\u001b[0m\u001b[37m\u001b[0m \u001b[1m0s\u001b[0m 5ms/step - accuracy: 0.7912 - loss: 0.4443 - val_accuracy: 0.7532 - val_loss: 0.4954\n",
      "Epoch 73/120\n",
      "\u001b[1m15/15\u001b[0m \u001b[32m━━━━━━━━━━━━━━━━━━━━\u001b[0m\u001b[37m\u001b[0m \u001b[1m0s\u001b[0m 5ms/step - accuracy: 0.7815 - loss: 0.4705 - val_accuracy: 0.7468 - val_loss: 0.4948\n",
      "Epoch 74/120\n",
      "\u001b[1m15/15\u001b[0m \u001b[32m━━━━━━━━━━━━━━━━━━━━\u001b[0m\u001b[37m\u001b[0m \u001b[1m0s\u001b[0m 5ms/step - accuracy: 0.7980 - loss: 0.4375 - val_accuracy: 0.7468 - val_loss: 0.4951\n",
      "Epoch 75/120\n",
      "\u001b[1m15/15\u001b[0m \u001b[32m━━━━━━━━━━━━━━━━━━━━\u001b[0m\u001b[37m\u001b[0m \u001b[1m0s\u001b[0m 5ms/step - accuracy: 0.7961 - loss: 0.4395 - val_accuracy: 0.7468 - val_loss: 0.4954\n",
      "Epoch 76/120\n",
      "\u001b[1m15/15\u001b[0m \u001b[32m━━━━━━━━━━━━━━━━━━━━\u001b[0m\u001b[37m\u001b[0m \u001b[1m0s\u001b[0m 5ms/step - accuracy: 0.7689 - loss: 0.4601 - val_accuracy: 0.7468 - val_loss: 0.4952\n",
      "Epoch 77/120\n",
      "\u001b[1m15/15\u001b[0m \u001b[32m━━━━━━━━━━━━━━━━━━━━\u001b[0m\u001b[37m\u001b[0m \u001b[1m0s\u001b[0m 5ms/step - accuracy: 0.7888 - loss: 0.4456 - val_accuracy: 0.7468 - val_loss: 0.4962\n",
      "Epoch 78/120\n",
      "\u001b[1m15/15\u001b[0m \u001b[32m━━━━━━━━━━━━━━━━━━━━\u001b[0m\u001b[37m\u001b[0m \u001b[1m0s\u001b[0m 5ms/step - accuracy: 0.7794 - loss: 0.4509 - val_accuracy: 0.7532 - val_loss: 0.4954\n",
      "Epoch 79/120\n",
      "\u001b[1m15/15\u001b[0m \u001b[32m━━━━━━━━━━━━━━━━━━━━\u001b[0m\u001b[37m\u001b[0m \u001b[1m0s\u001b[0m 5ms/step - accuracy: 0.8011 - loss: 0.4488 - val_accuracy: 0.7532 - val_loss: 0.4948\n",
      "Epoch 80/120\n",
      "\u001b[1m15/15\u001b[0m \u001b[32m━━━━━━━━━━━━━━━━━━━━\u001b[0m\u001b[37m\u001b[0m \u001b[1m0s\u001b[0m 5ms/step - accuracy: 0.7983 - loss: 0.4491 - val_accuracy: 0.7532 - val_loss: 0.4949\n",
      "Epoch 81/120\n",
      "\u001b[1m15/15\u001b[0m \u001b[32m━━━━━━━━━━━━━━━━━━━━\u001b[0m\u001b[37m\u001b[0m \u001b[1m0s\u001b[0m 5ms/step - accuracy: 0.7913 - loss: 0.4451 - val_accuracy: 0.7532 - val_loss: 0.4958\n",
      "Epoch 82/120\n",
      "\u001b[1m15/15\u001b[0m \u001b[32m━━━━━━━━━━━━━━━━━━━━\u001b[0m\u001b[37m\u001b[0m \u001b[1m0s\u001b[0m 6ms/step - accuracy: 0.7806 - loss: 0.4704 - val_accuracy: 0.7532 - val_loss: 0.4960\n",
      "Epoch 83/120\n",
      "\u001b[1m15/15\u001b[0m \u001b[32m━━━━━━━━━━━━━━━━━━━━\u001b[0m\u001b[37m\u001b[0m \u001b[1m0s\u001b[0m 5ms/step - accuracy: 0.8227 - loss: 0.4118 - val_accuracy: 0.7597 - val_loss: 0.4962\n",
      "Epoch 84/120\n",
      "\u001b[1m15/15\u001b[0m \u001b[32m━━━━━━━━━━━━━━━━━━━━\u001b[0m\u001b[37m\u001b[0m \u001b[1m0s\u001b[0m 4ms/step - accuracy: 0.8059 - loss: 0.4313 - val_accuracy: 0.7532 - val_loss: 0.4965\n",
      "Epoch 85/120\n",
      "\u001b[1m15/15\u001b[0m \u001b[32m━━━━━━━━━━━━━━━━━━━━\u001b[0m\u001b[37m\u001b[0m \u001b[1m0s\u001b[0m 6ms/step - accuracy: 0.8301 - loss: 0.3992 - val_accuracy: 0.7532 - val_loss: 0.4968\n",
      "Epoch 86/120\n",
      "\u001b[1m15/15\u001b[0m \u001b[32m━━━━━━━━━━━━━━━━━━━━\u001b[0m\u001b[37m\u001b[0m \u001b[1m0s\u001b[0m 5ms/step - accuracy: 0.8044 - loss: 0.4395 - val_accuracy: 0.7532 - val_loss: 0.4960\n",
      "Epoch 87/120\n",
      "\u001b[1m15/15\u001b[0m \u001b[32m━━━━━━━━━━━━━━━━━━━━\u001b[0m\u001b[37m\u001b[0m \u001b[1m0s\u001b[0m 5ms/step - accuracy: 0.7883 - loss: 0.4595 - val_accuracy: 0.7532 - val_loss: 0.4954\n",
      "Epoch 88/120\n",
      "\u001b[1m15/15\u001b[0m \u001b[32m━━━━━━━━━━━━━━━━━━━━\u001b[0m\u001b[37m\u001b[0m \u001b[1m0s\u001b[0m 5ms/step - accuracy: 0.7777 - loss: 0.4410 - val_accuracy: 0.7597 - val_loss: 0.4955\n",
      "Epoch 89/120\n",
      "\u001b[1m15/15\u001b[0m \u001b[32m━━━━━━━━━━━━━━━━━━━━\u001b[0m\u001b[37m\u001b[0m \u001b[1m0s\u001b[0m 4ms/step - accuracy: 0.8060 - loss: 0.4446 - val_accuracy: 0.7597 - val_loss: 0.4959\n",
      "Epoch 90/120\n",
      "\u001b[1m15/15\u001b[0m \u001b[32m━━━━━━━━━━━━━━━━━━━━\u001b[0m\u001b[37m\u001b[0m \u001b[1m0s\u001b[0m 4ms/step - accuracy: 0.8122 - loss: 0.4291 - val_accuracy: 0.7532 - val_loss: 0.4965\n",
      "Epoch 91/120\n",
      "\u001b[1m15/15\u001b[0m \u001b[32m━━━━━━━━━━━━━━━━━━━━\u001b[0m\u001b[37m\u001b[0m \u001b[1m0s\u001b[0m 6ms/step - accuracy: 0.8158 - loss: 0.4195 - val_accuracy: 0.7532 - val_loss: 0.4968\n",
      "Epoch 92/120\n",
      "\u001b[1m15/15\u001b[0m \u001b[32m━━━━━━━━━━━━━━━━━━━━\u001b[0m\u001b[37m\u001b[0m \u001b[1m0s\u001b[0m 5ms/step - accuracy: 0.8005 - loss: 0.4455 - val_accuracy: 0.7532 - val_loss: 0.4966\n",
      "Epoch 93/120\n",
      "\u001b[1m15/15\u001b[0m \u001b[32m━━━━━━━━━━━━━━━━━━━━\u001b[0m\u001b[37m\u001b[0m \u001b[1m0s\u001b[0m 4ms/step - accuracy: 0.7826 - loss: 0.4563 - val_accuracy: 0.7597 - val_loss: 0.4960\n",
      "Epoch 94/120\n",
      "\u001b[1m15/15\u001b[0m \u001b[32m━━━━━━━━━━━━━━━━━━━━\u001b[0m\u001b[37m\u001b[0m \u001b[1m0s\u001b[0m 4ms/step - accuracy: 0.8167 - loss: 0.4088 - val_accuracy: 0.7597 - val_loss: 0.4965\n",
      "Epoch 95/120\n",
      "\u001b[1m15/15\u001b[0m \u001b[32m━━━━━━━━━━━━━━━━━━━━\u001b[0m\u001b[37m\u001b[0m \u001b[1m0s\u001b[0m 4ms/step - accuracy: 0.8152 - loss: 0.4146 - val_accuracy: 0.7597 - val_loss: 0.4965\n",
      "Epoch 96/120\n",
      "\u001b[1m15/15\u001b[0m \u001b[32m━━━━━━━━━━━━━━━━━━━━\u001b[0m\u001b[37m\u001b[0m \u001b[1m0s\u001b[0m 5ms/step - accuracy: 0.7927 - loss: 0.4465 - val_accuracy: 0.7597 - val_loss: 0.4963\n",
      "Epoch 97/120\n",
      "\u001b[1m15/15\u001b[0m \u001b[32m━━━━━━━━━━━━━━━━━━━━\u001b[0m\u001b[37m\u001b[0m \u001b[1m0s\u001b[0m 5ms/step - accuracy: 0.8060 - loss: 0.4257 - val_accuracy: 0.7597 - val_loss: 0.4966\n",
      "Epoch 98/120\n",
      "\u001b[1m15/15\u001b[0m \u001b[32m━━━━━━━━━━━━━━━━━━━━\u001b[0m\u001b[37m\u001b[0m \u001b[1m0s\u001b[0m 5ms/step - accuracy: 0.7814 - loss: 0.4589 - val_accuracy: 0.7597 - val_loss: 0.4970\n",
      "Epoch 99/120\n",
      "\u001b[1m15/15\u001b[0m \u001b[32m━━━━━━━━━━━━━━━━━━━━\u001b[0m\u001b[37m\u001b[0m \u001b[1m0s\u001b[0m 7ms/step - accuracy: 0.8013 - loss: 0.4203 - val_accuracy: 0.7597 - val_loss: 0.4974\n",
      "Epoch 100/120\n",
      "\u001b[1m15/15\u001b[0m \u001b[32m━━━━━━━━━━━━━━━━━━━━\u001b[0m\u001b[37m\u001b[0m \u001b[1m0s\u001b[0m 9ms/step - accuracy: 0.7996 - loss: 0.4301 - val_accuracy: 0.7597 - val_loss: 0.4973\n",
      "Epoch 101/120\n",
      "\u001b[1m15/15\u001b[0m \u001b[32m━━━━━━━━━━━━━━━━━━━━\u001b[0m\u001b[37m\u001b[0m \u001b[1m0s\u001b[0m 9ms/step - accuracy: 0.7952 - loss: 0.4394 - val_accuracy: 0.7597 - val_loss: 0.4980\n",
      "Epoch 102/120\n",
      "\u001b[1m15/15\u001b[0m \u001b[32m━━━━━━━━━━━━━━━━━━━━\u001b[0m\u001b[37m\u001b[0m \u001b[1m0s\u001b[0m 7ms/step - accuracy: 0.7747 - loss: 0.4657 - val_accuracy: 0.7597 - val_loss: 0.4980\n",
      "Epoch 103/120\n",
      "\u001b[1m15/15\u001b[0m \u001b[32m━━━━━━━━━━━━━━━━━━━━\u001b[0m\u001b[37m\u001b[0m \u001b[1m0s\u001b[0m 8ms/step - accuracy: 0.7938 - loss: 0.4328 - val_accuracy: 0.7597 - val_loss: 0.4977\n",
      "Epoch 104/120\n",
      "\u001b[1m15/15\u001b[0m \u001b[32m━━━━━━━━━━━━━━━━━━━━\u001b[0m\u001b[37m\u001b[0m \u001b[1m0s\u001b[0m 8ms/step - accuracy: 0.8110 - loss: 0.4065 - val_accuracy: 0.7597 - val_loss: 0.4983\n",
      "Epoch 105/120\n",
      "\u001b[1m15/15\u001b[0m \u001b[32m━━━━━━━━━━━━━━━━━━━━\u001b[0m\u001b[37m\u001b[0m \u001b[1m0s\u001b[0m 9ms/step - accuracy: 0.7835 - loss: 0.4349 - val_accuracy: 0.7597 - val_loss: 0.4976\n",
      "Epoch 106/120\n",
      "\u001b[1m15/15\u001b[0m \u001b[32m━━━━━━━━━━━━━━━━━━━━\u001b[0m\u001b[37m\u001b[0m \u001b[1m0s\u001b[0m 6ms/step - accuracy: 0.8158 - loss: 0.4197 - val_accuracy: 0.7597 - val_loss: 0.4976\n",
      "Epoch 107/120\n",
      "\u001b[1m15/15\u001b[0m \u001b[32m━━━━━━━━━━━━━━━━━━━━\u001b[0m\u001b[37m\u001b[0m \u001b[1m0s\u001b[0m 8ms/step - accuracy: 0.8144 - loss: 0.4176 - val_accuracy: 0.7597 - val_loss: 0.4982\n",
      "Epoch 108/120\n",
      "\u001b[1m15/15\u001b[0m \u001b[32m━━━━━━━━━━━━━━━━━━━━\u001b[0m\u001b[37m\u001b[0m \u001b[1m0s\u001b[0m 8ms/step - accuracy: 0.8026 - loss: 0.4333 - val_accuracy: 0.7597 - val_loss: 0.4985\n",
      "Epoch 109/120\n",
      "\u001b[1m15/15\u001b[0m \u001b[32m━━━━━━━━━━━━━━━━━━━━\u001b[0m\u001b[37m\u001b[0m \u001b[1m0s\u001b[0m 6ms/step - accuracy: 0.7919 - loss: 0.4516 - val_accuracy: 0.7597 - val_loss: 0.4983\n",
      "Epoch 110/120\n",
      "\u001b[1m15/15\u001b[0m \u001b[32m━━━━━━━━━━━━━━━━━━━━\u001b[0m\u001b[37m\u001b[0m \u001b[1m0s\u001b[0m 5ms/step - accuracy: 0.7990 - loss: 0.4146 - val_accuracy: 0.7597 - val_loss: 0.4990\n",
      "Epoch 111/120\n",
      "\u001b[1m15/15\u001b[0m \u001b[32m━━━━━━━━━━━━━━━━━━━━\u001b[0m\u001b[37m\u001b[0m \u001b[1m0s\u001b[0m 5ms/step - accuracy: 0.8164 - loss: 0.4393 - val_accuracy: 0.7597 - val_loss: 0.4985\n",
      "Epoch 112/120\n",
      "\u001b[1m15/15\u001b[0m \u001b[32m━━━━━━━━━━━━━━━━━━━━\u001b[0m\u001b[37m\u001b[0m \u001b[1m0s\u001b[0m 4ms/step - accuracy: 0.7877 - loss: 0.4578 - val_accuracy: 0.7597 - val_loss: 0.4983\n",
      "Epoch 113/120\n",
      "\u001b[1m15/15\u001b[0m \u001b[32m━━━━━━━━━━━━━━━━━━━━\u001b[0m\u001b[37m\u001b[0m \u001b[1m0s\u001b[0m 5ms/step - accuracy: 0.7931 - loss: 0.4305 - val_accuracy: 0.7597 - val_loss: 0.4980\n",
      "Epoch 114/120\n",
      "\u001b[1m15/15\u001b[0m \u001b[32m━━━━━━━━━━━━━━━━━━━━\u001b[0m\u001b[37m\u001b[0m \u001b[1m0s\u001b[0m 5ms/step - accuracy: 0.8075 - loss: 0.4229 - val_accuracy: 0.7597 - val_loss: 0.4988\n",
      "Epoch 115/120\n",
      "\u001b[1m15/15\u001b[0m \u001b[32m━━━━━━━━━━━━━━━━━━━━\u001b[0m\u001b[37m\u001b[0m \u001b[1m0s\u001b[0m 6ms/step - accuracy: 0.8118 - loss: 0.4306 - val_accuracy: 0.7597 - val_loss: 0.4992\n",
      "Epoch 116/120\n",
      "\u001b[1m15/15\u001b[0m \u001b[32m━━━━━━━━━━━━━━━━━━━━\u001b[0m\u001b[37m\u001b[0m \u001b[1m0s\u001b[0m 6ms/step - accuracy: 0.7794 - loss: 0.4707 - val_accuracy: 0.7597 - val_loss: 0.4987\n",
      "Epoch 117/120\n",
      "\u001b[1m15/15\u001b[0m \u001b[32m━━━━━━━━━━━━━━━━━━━━\u001b[0m\u001b[37m\u001b[0m \u001b[1m0s\u001b[0m 6ms/step - accuracy: 0.7859 - loss: 0.4435 - val_accuracy: 0.7597 - val_loss: 0.4983\n",
      "Epoch 118/120\n",
      "\u001b[1m15/15\u001b[0m \u001b[32m━━━━━━━━━━━━━━━━━━━━\u001b[0m\u001b[37m\u001b[0m \u001b[1m0s\u001b[0m 5ms/step - accuracy: 0.8019 - loss: 0.4261 - val_accuracy: 0.7597 - val_loss: 0.4993\n",
      "Epoch 119/120\n",
      "\u001b[1m15/15\u001b[0m \u001b[32m━━━━━━━━━━━━━━━━━━━━\u001b[0m\u001b[37m\u001b[0m \u001b[1m0s\u001b[0m 5ms/step - accuracy: 0.8177 - loss: 0.4214 - val_accuracy: 0.7597 - val_loss: 0.4989\n",
      "Epoch 120/120\n",
      "\u001b[1m15/15\u001b[0m \u001b[32m━━━━━━━━━━━━━━━━━━━━\u001b[0m\u001b[37m\u001b[0m \u001b[1m0s\u001b[0m 5ms/step - accuracy: 0.8316 - loss: 0.3771 - val_accuracy: 0.7597 - val_loss: 0.4995\n"
     ]
    }
   ],
   "source": [
    "# train the model\n",
    "history = model.fit(X_train,y_train, epochs=120, batch_size=32, validation_split=0.25)"
   ]
  },
  {
   "cell_type": "markdown",
   "metadata": {},
   "source": [
    "Note that the call to` model.fit()` returns a `history` object. This `history` object contains a member `history`, which is a dictionary containing the loss and extra metrics it monitored during the training process. Let's have a look."
   ]
  },
  {
   "cell_type": "code",
   "execution_count": 13,
   "metadata": {},
   "outputs": [
    {
     "data": {
      "text/plain": [
       "dict_keys(['accuracy', 'loss', 'val_accuracy', 'val_loss'])"
      ]
     },
     "execution_count": 13,
     "metadata": {},
     "output_type": "execute_result"
    }
   ],
   "source": [
    "history.history.keys()"
   ]
  },
  {
   "cell_type": "markdown",
   "metadata": {},
   "source": [
    "If you use this dictionary to create a `panda` `DataFrame` and call its `plot()` method, you will get the four learning curves plotted in one figure. We will plot them in two separate figures, as follows."
   ]
  },
  {
   "cell_type": "code",
   "execution_count": 15,
   "metadata": {},
   "outputs": [
    {
     "data": {
      "text/plain": [
       "Text(0.5, 0, 'epoch')"
      ]
     },
     "execution_count": 15,
     "metadata": {},
     "output_type": "execute_result"
    },
    {
     "data": {
      "image/png": "[encoded data removed]",
      "text/plain": [
       "<Figure size 640x480 with 2 Axes>"
      ]
     },
     "metadata": {},
     "output_type": "display_data"
    }
   ],
   "source": [
    "import matplotlib.pyplot as plt\n",
    "fig = plt.figure()\n",
    "fig.add_subplot(1,2,1)\n",
    "plt.plot(history.history['loss'], label='train loss')\n",
    "plt.plot(history.history['val_loss'], label='val loss')\n",
    "plt.legend()\n",
    "plt.grid(True)\n",
    "plt.xlim([0,120])\n",
    "plt.ylim([0,1.0])\n",
    "plt.xlabel('epoch')\n",
    "\n",
    "fig.add_subplot(1,2,2)\n",
    "plt.plot(history.history['accuracy'], label='train accuracy')\n",
    "plt.plot(history.history['val_accuracy'], label='val accuracy')\n",
    "plt.legend()\n",
    "plt.grid(True)\n",
    "plt.xlim([0,120])\n",
    "plt.ylim([0,1.0])\n",
    "plt.xlabel('epoch')"
   ]
  },
  {
   "cell_type": "markdown",
   "metadata": {},
   "source": [
    "You can see that both the training loss and validation loss decrease rapidly before 25 epochs. After that the gap between training loss and validation loss get larger, which means the model starts to overfit. In our later lectures, we will talk about what overfitting is, what causes overfitting and how to prevent overfitting when training deep learning models.\n",
    "\n",
    "In this particular case, the model looks like it performed better on the validation set than on the training set at the beginning of training. But that's not the case. Indeed, the validation loss is computed at the *end* of each epoch, while the training loss is computed *during* each epoch. So the training curve should be shifted by half an epoch to the left. If you do that, you will see the training and validation curves overlap almost perfectly at the beginning of training."
   ]
  },
  {
   "cell_type": "markdown",
   "metadata": {},
   "source": [
    "## 5. Evaluate the model\n",
    "Once you are satisfied with your model's validation accuracy, you may evaluate the performance on the test set to estimate how the model generalize to new data. You can easily do this using the `evaluate()` method. The first output of `evaluate()` method is the loss of the model, and the second is the accuracy of the model."
   ]
  },
  {
   "cell_type": "code",
   "execution_count": 18,
   "metadata": {},
   "outputs": [
    {
     "name": "stdout",
     "output_type": "stream",
     "text": [
      "\u001b[1m5/5\u001b[0m \u001b[32m━━━━━━━━━━━━━━━━━━━━\u001b[0m\u001b[37m\u001b[0m \u001b[1m0s\u001b[0m 3ms/step - accuracy: 0.8196 - loss: 0.4485 \n",
      "Accuracy on the test set: 80.52\n"
     ]
    }
   ],
   "source": [
    "# evaluate the model on both the test set\n",
    "_,accuracy = model.evaluate(X_test,y_test)\n",
    "print('Accuracy on the test set: %.2f' % (accuracy*100))"
   ]
  },
  {
   "cell_type": "markdown",
   "metadata": {},
   "source": [
    "You could also use the `predict()` method to make predictions on new instances. The `predict()` outputs the likelihood of the diabetes. You need get the output class (0 or 1) by thresholding the probability with 0.5."
   ]
  },
  {
   "cell_type": "code",
   "execution_count": 42,
   "metadata": {},
   "outputs": [
    {
     "name": "stdout",
     "output_type": "stream",
     "text": [
      "\u001b[1m5/5\u001b[0m \u001b[32m━━━━━━━━━━━━━━━━━━━━\u001b[0m\u001b[37m\u001b[0m \u001b[1m0s\u001b[0m 5ms/step\n",
      "[-0.8354354969841159, 2.4573590260372535, 0.3467431597703781, 1.3950740095371392, -0.6996567372359558, 1.3522451320376832, 2.7859441674361065, -0.9656918919706856] => 1 (expected 1.0)\n",
      "[-0.5448080776366672, -0.4371963301807875, 0.24436263555830207, 0.5845724632728228, 0.15216202200991366, 0.17619533491603662, -0.18763809923801236, -0.8824028314748293] => 0 (expected 0.0)\n",
      "[0.036446761058230505, -1.4125356349933882, -0.3699205097141541, -1.2858157204140617, -0.6996567372359558, 0.2267781218890105, -0.2266851391034301, -0.7158247104831167] => 0 (expected 0.0)\n",
      "[0.3270741804056793, 1.41909460478513, 0.14198211134622604, -0.10123653741236822, 0.7910260914443157, -0.8101690110569577, 0.36202407732902164, 1.4496908624091467] => 1 (expected 1.0)\n",
      "[-1.1260629163315647, -0.31134609730174223, -0.21634972339604003, -1.2858157204140617, -0.6996567372359558, -0.9619173719758798, 0.5812882242655983, -0.21609034750797898] => 0 (expected 0.0)\n",
      "[-0.8354354969841159, -1.2552228438945816, 0.14198211134622604, -0.16358281020193105, -0.358929233537608, -0.7090034371110094, -0.5510759318315159, -0.799113770978973] => 0 (expected 0.0)\n",
      "[1.4895838577954748, 0.9786187897084716, 0.4491236839824541, 0.833957554431074, 0.756953341074481, 0.2520695153754979, 1.2811313233919313, -0.049512226516266404] => 1 (expected 1.0)\n",
      "[-0.2541806582892183, 1.7337201869827432, 0.8586457808307582, 0.3975336449041343, 0.6291805271876005, 0.13825824468630554, 2.0650757391514714, 1.5329799229050032] => 1 (expected 1.0)\n",
      "[-0.5448080776366672, 0.19205483421443878, -0.5746815581383061, 0.21049482653544582, 1.6428448506901852, -0.569900772935331, 3.404689568380419, -0.7158247104831167] => 1 (expected 0.0)\n",
      "[0.6177015997531281, -0.5630465630598328, 0.14198211134622604, 0.7092650088519483, 0.9187989053311961, 0.6946689013890209, -0.4279275753328907, 1.782847104392572] => 0 (expected 0.0)\n"
     ]
    }
   ],
   "source": [
    "y_predict = (model.predict(X_test) > 0.5).astype(\"int32\")\n",
    "for i in range(10):\n",
    "    print(f'{(X_test[i]).tolist()} => {y_predict[i][0]} (expected {y_test[i]})')"
   ]
  },
  {
   "cell_type": "code",
   "execution_count": 37,
   "metadata": {},
   "outputs": [
    {
     "name": "stdout",
     "output_type": "stream",
     "text": [
      "['3.14 =>', '2.72 =>', '1.41 =>', '0.58 =>']\n"
     ]
    }
   ],
   "source": [
    "numeros = [3.14159, 2.71828, 1.41421, 0.57721]\n",
    "print([f\"{num:.2f} =>\" for num in numeros])"
   ]
  }
 ],
 "metadata": {
  "kernelspec": {
   "display_name": "Python 3",
   "language": "python",
   "name": "python3"
  },
  "language_info": {
   "codemirror_mode": {
    "name": "ipython",
    "version": 3
   },
   "file_extension": ".py",
   "mimetype": "text/x-python",
   "name": "python",
   "nbconvert_exporter": "python",
   "pygments_lexer": "ipython3",
   "version": "3.11.0"
  }
 },
 "nbformat": 4,
 "nbformat_minor": 4
}
